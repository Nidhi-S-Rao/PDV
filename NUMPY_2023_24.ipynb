{
 "cells": [
  {
   "cell_type": "markdown",
   "metadata": {
    "id": "APs5LPKBpITz"
   },
   "source": [
    "# **Numpy**\n",
    "* NumPy, short for Numerical Python, is one of the most important foundational packages for numerical computing in Python.\n",
    "* Most computational packages providing scientific functionality use NumPy's array objects as the entity for data exchange.\n",
    "* Some of the unique features find in NumPy:\n",
    "  * ndarray, an efficient multidimensional array providing **fast array-oriented arithmetic operations** and flexible broadcasting capabilities.\n",
    "  * Mathematical functions for **fast operations on entire arrays of data without having to write loops**.\n",
    "  * Tools for reading/writing array **data to disk** and **working with memory-mapped** files.\n",
    "  * Linear algebra, random number generation, and Fourier transform capabilities.\n",
    "  * A **C API for connecting NumPy with libraries** written in C, C++, or FORTRAN."
   ]
  },
  {
   "cell_type": "markdown",
   "metadata": {
    "id": "YgX24bJ6pvP7"
   },
   "source": [
    "**For most data analysis applications, the main areas of functionality focused on are:**\n",
    "  * Fast vectorized array operations for data munging and cleaning, subsetting and filtering, transformation, and any other kinds of computations.\n",
    "  * Common array algorithms like sorting, unique, and set operations\n",
    "  * Efficient descriptive statistics and aggregating/summarizing data\n",
    "  * Data alignment and relational data manipulations for merging and joining\n",
    "together heterogeneous datasets\n",
    "  * Expressing conditional logic as array expressions instead of loops with if-elifelse branches\n",
    "  * Group-wise data manipulations (aggregation, transformation, function application)"
   ]
  },
  {
   "cell_type": "markdown",
   "metadata": {
    "id": "BsHs4lT_q3N7"
   },
   "source": [
    "**One of the reasons NumPy is so important for numerical computations in Python is because it is designed for efficiency on large arrays of data. There are a number of reasons for this:**\n",
    "  * NumPy internally stores data in a contiguous block of memory, independent of other built-in Python objects. NumPy's library of algorithms written in the C language can operate on this memory without any type checking or other overhead.\n",
    "  * NumPy arrays also use much less memory than built-in Python sequences.\n",
    "  * NumPy operations perform complex computations on entire arrays without the need for Python for loops."
   ]
  },
  {
   "cell_type": "markdown",
   "metadata": {
    "id": "ueWCJ9plrKUC"
   },
   "source": [
    "**To measure performance difference, consider a NumPy array of one million integers, and the equivalent Python list:**\n"
   ]
  },
  {
   "cell_type": "markdown",
   "metadata": {
    "id": "UhHEW7TRoyOF"
   },
   "source": [
    "# NumPy Basics: Arrays and Vectorized Computation"
   ]
  },
  {
   "cell_type": "code",
   "execution_count": 3,
   "metadata": {
    "id": "hyEyVgzCoyOM"
   },
   "outputs": [
    {
     "data": {
      "text/plain": [
       "[0, 1, 2, 3, 4, 5, 6, 7, 8, 9]"
      ]
     },
     "execution_count": 3,
     "metadata": {},
     "output_type": "execute_result"
    }
   ],
   "source": [
    "import numpy as np\n",
    "my_arr = np.arange(10)\n",
    "my_list = list(range(10))\n",
    "my_arr\n",
    "my_list"
   ]
  },
  {
   "cell_type": "code",
   "execution_count": 2,
   "metadata": {
    "colab": {
     "base_uri": "https://localhost:8080/"
    },
    "id": "YbyhVzM6oyOO",
    "outputId": "02c59b29-acb9-4692-e219-56f06b43b3a9"
   },
   "outputs": [
    {
     "name": "stdout",
     "output_type": "stream",
     "text": [
      "Wall time: 21.1 ms\n",
      "Wall time: 2.93 s\n"
     ]
    }
   ],
   "source": [
    "%time for _ in range(10): my_arr2 = my_arr * 2\n",
    "%time for _ in range(10): my_list2 = [x * 2 for x in my_list]"
   ]
  },
  {
   "cell_type": "markdown",
   "metadata": {
    "id": "OFclrOxCoyOQ"
   },
   "source": [
    "## The NumPy ndarray: A Multidimensional Array Object\n",
    "\n",
    "* Ndarray is the n-dimensional array object defined in the numpy which stores the collection of the similar type of elements. In other words, we can define a ndarray as the collection of the data type (dtype) objects.\n",
    "* The ndarray object can be accessed by using the 0 based indexing.\n",
    "* Each element of the Array object contains the same size in the memory.\n"
   ]
  },
  {
   "cell_type": "markdown",
   "metadata": {
    "id": "BMZIpq8p414C"
   },
   "source": [
    "* One of the key features of NumPy is its N-dimensional array object, or ndarray, which is a fast, flexible container for large datasets in Python.\n",
    "* Arrays enable you to perform mathematical operations on whole blocks of data using similar syntax to the equivalent operations between scalar elements."
   ]
  },
  {
   "cell_type": "code",
   "execution_count": 5,
   "metadata": {
    "colab": {
     "base_uri": "https://localhost:8080/"
    },
    "id": "rOEKLskIoyOS",
    "outputId": "fbe08adb-ff0c-4b22-9734-60a4c6eb66a0"
   },
   "outputs": [
    {
     "data": {
      "text/plain": [
       "array([[-0.20436361, -0.10685631, -2.39255278],\n",
       "       [ 0.52395809,  0.12777437, -0.95304297]])"
      ]
     },
     "execution_count": 5,
     "metadata": {},
     "output_type": "execute_result"
    }
   ],
   "source": [
    "data = np.random.randn(2, 3)\n",
    "data"
   ]
  },
  {
   "cell_type": "code",
   "execution_count": 6,
   "metadata": {
    "colab": {
     "base_uri": "https://localhost:8080/"
    },
    "id": "uh3kPVdCoyOT",
    "outputId": "8424c85b-177c-4ff7-b34b-a7e950592a93"
   },
   "outputs": [
    {
     "data": {
      "text/plain": [
       "array([[ -2.04363614,  -1.06856308, -23.92552783],\n",
       "       [  5.2395809 ,   1.27774366,  -9.53042974]])"
      ]
     },
     "execution_count": 6,
     "metadata": {},
     "output_type": "execute_result"
    }
   ],
   "source": [
    "data * 10"
   ]
  },
  {
   "cell_type": "markdown",
   "metadata": {
    "id": "mMRFyGMub3M7"
   },
   "source": [
    "* In the above example all of the elements have been multiplied by 10."
   ]
  },
  {
   "cell_type": "code",
   "execution_count": 7,
   "metadata": {
    "colab": {
     "base_uri": "https://localhost:8080/"
    },
    "id": "NfP2O_vjbgi9",
    "outputId": "c368c1d9-a667-440d-eda1-b8cad21f5fc6"
   },
   "outputs": [
    {
     "data": {
      "text/plain": [
       "array([[-0.40872723, -0.21371262, -4.78510557],\n",
       "       [ 1.04791618,  0.25554873, -1.90608595]])"
      ]
     },
     "execution_count": 7,
     "metadata": {},
     "output_type": "execute_result"
    }
   ],
   "source": [
    "data + data"
   ]
  },
  {
   "cell_type": "markdown",
   "metadata": {
    "id": "7PbI8QW2b9Po"
   },
   "source": [
    "* In the above example the corresponding values in each “cell” in the array have been added to each other."
   ]
  },
  {
   "cell_type": "markdown",
   "metadata": {
    "id": "150UpjLPcTDT"
   },
   "source": [
    "* An ndarray is a generic multidimensional container for homogeneous data; that is, all of the elements must be the same type.\n",
    "* Every array has a shape, a tuple indicating the size of each dimension, and a dtype, an object describing the data type of the array:"
   ]
  },
  {
   "cell_type": "code",
   "execution_count": 6,
   "metadata": {
    "colab": {
     "base_uri": "https://localhost:8080/"
    },
    "id": "IZMS-my1oyOU",
    "outputId": "60568962-9a57-4c78-d9cb-43fc3377f567"
   },
   "outputs": [
    {
     "data": {
      "text/plain": [
       "(2, 3)"
      ]
     },
     "execution_count": 6,
     "metadata": {},
     "output_type": "execute_result"
    }
   ],
   "source": [
    "data.shape"
   ]
  },
  {
   "cell_type": "code",
   "execution_count": 9,
   "metadata": {
    "colab": {
     "base_uri": "https://localhost:8080/"
    },
    "id": "_X5ycTSvbtUX",
    "outputId": "aed18392-55eb-4f56-df68-782153bede83"
   },
   "outputs": [
    {
     "data": {
      "text/plain": [
       "dtype('float64')"
      ]
     },
     "execution_count": 9,
     "metadata": {},
     "output_type": "execute_result"
    }
   ],
   "source": [
    "data.dtype"
   ]
  },
  {
   "cell_type": "markdown",
   "metadata": {
    "id": "b6UgoIVdoyOV"
   },
   "source": [
    "### Creating ndarrays\n",
    "\n",
    "* The easiest way to create an array is to use the array function. This accepts any sequence-like object (including other arrays) and produces a new NumPy array containing the passed data.\n",
    "\n",
    "* The syntax is given below\n",
    "\n",
    "\n",
    "\n",
    "  > **numpy.array(object, dtype = None, copy = True, order = None, subok = False, ndmin = 0)**\n",
    "\n",
    "* The parameters are described in the following table\n",
    "\n",
    "<p align=\"center\">\n",
    "    <img src=\"http://raghudathesh.weebly.com/uploads/4/8/9/6/48968251/3_orig.png\">\n",
    "</p>\n",
    "\n",
    "\n",
    "* For example, a list is a good candidate for conversion:"
   ]
  },
  {
   "cell_type": "code",
   "execution_count": 8,
   "metadata": {
    "colab": {
     "base_uri": "https://localhost:8080/"
    },
    "id": "VYDB_j9xoyOX",
    "outputId": "adb6c30b-d7b1-42b8-e696-b04bf8526bd9"
   },
   "outputs": [
    {
     "data": {
      "text/plain": [
       "array([6. , 7.5, 8. , 0. , 1. ])"
      ]
     },
     "execution_count": 8,
     "metadata": {},
     "output_type": "execute_result"
    }
   ],
   "source": [
    "data1 = [6, 7.5, 8, 0, 1]\n",
    "arr1 = np.array(data1)\n",
    "arr1"
   ]
  },
  {
   "cell_type": "markdown",
   "metadata": {
    "id": "QfYzaUV0c3Gs"
   },
   "source": [
    "* Nested sequences, like a list of equal-length lists, will be converted into a multidimensional array:"
   ]
  },
  {
   "cell_type": "code",
   "execution_count": 9,
   "metadata": {
    "colab": {
     "base_uri": "https://localhost:8080/"
    },
    "id": "Dfc4RYvwoyOX",
    "outputId": "1e1b5c78-5090-4f4d-ac54-97abe6a6ce30"
   },
   "outputs": [
    {
     "data": {
      "text/plain": [
       "array([[1, 2, 3, 4],\n",
       "       [5, 6, 7, 8]])"
      ]
     },
     "execution_count": 9,
     "metadata": {},
     "output_type": "execute_result"
    }
   ],
   "source": [
    "data2 = [[1, 2, 3, 4], [5, 6, 7, 8]]\n",
    "arr2 = np.array(data2)\n",
    "arr2"
   ]
  },
  {
   "cell_type": "markdown",
   "metadata": {
    "id": "K7zQhImndAXD"
   },
   "source": [
    "* Since data2 was a list of lists, the NumPy array arr2 has two dimensions with shape inferred from the data.\n",
    "* We can confirm this by inspecting the ndim and shape attributes:"
   ]
  },
  {
   "cell_type": "code",
   "execution_count": 10,
   "metadata": {
    "colab": {
     "base_uri": "https://localhost:8080/"
    },
    "id": "usGj9DvGoyOY",
    "outputId": "928a5715-276c-4183-bc91-a7f743cc4c6f"
   },
   "outputs": [
    {
     "data": {
      "text/plain": [
       "2"
      ]
     },
     "execution_count": 10,
     "metadata": {},
     "output_type": "execute_result"
    }
   ],
   "source": [
    "arr2.ndim"
   ]
  },
  {
   "cell_type": "code",
   "execution_count": 11,
   "metadata": {
    "colab": {
     "base_uri": "https://localhost:8080/"
    },
    "id": "XsTRKLSRdF53",
    "outputId": "1c02fa67-692f-43ab-de91-138c61cf7993"
   },
   "outputs": [
    {
     "data": {
      "text/plain": [
       "(2, 4)"
      ]
     },
     "execution_count": 11,
     "metadata": {},
     "output_type": "execute_result"
    }
   ],
   "source": [
    "arr2.shape"
   ]
  },
  {
   "cell_type": "markdown",
   "metadata": {
    "id": "B5IvIR9GdN55"
   },
   "source": [
    "* Unless explicitly specified (more on this later), np.array tries to infer a good data type (like int, foat etc) for the array that it creates.\n",
    "* The data type is stored in a special dtype metadata object; for example, in the previous two examples we have:"
   ]
  },
  {
   "cell_type": "code",
   "execution_count": null,
   "metadata": {
    "colab": {
     "base_uri": "https://localhost:8080/"
    },
    "id": "dimYKCDjoyOZ",
    "outputId": "df98cd13-2756-41ec-8d26-809d5f4bf397"
   },
   "outputs": [
    {
     "data": {
      "text/plain": [
       "dtype('float64')"
      ]
     },
     "execution_count": 11,
     "metadata": {},
     "output_type": "execute_result"
    }
   ],
   "source": [
    "arr1.dtype"
   ]
  },
  {
   "cell_type": "code",
   "execution_count": null,
   "metadata": {
    "colab": {
     "base_uri": "https://localhost:8080/"
    },
    "id": "y1Wqt9brdUKy",
    "outputId": "a8c4af38-218f-49da-ab29-7ab6851ecd3a"
   },
   "outputs": [
    {
     "data": {
      "text/plain": [
       "dtype('int64')"
      ]
     },
     "execution_count": 12,
     "metadata": {},
     "output_type": "execute_result"
    }
   ],
   "source": [
    "arr2.dtype"
   ]
  },
  {
   "cell_type": "markdown",
   "metadata": {
    "id": "p1xGCHF8de7s"
   },
   "source": [
    "* In addition to np.array, there are a number of other functions for creating new arrays."
   ]
  },
  {
   "cell_type": "markdown",
   "metadata": {
    "id": "jOqDieVwdiBA"
   },
   "source": [
    "# Ex:\n",
    "* zeros and ones create arrays of 0s or 1s, respectively, with a given length or shape.\n",
    "* Empty creates an array without initializing its values to any particular value.\n",
    "* To create a higher dimensional array with these methods, pass a tuple for the shape:"
   ]
  },
  {
   "cell_type": "code",
   "execution_count": null,
   "metadata": {
    "colab": {
     "base_uri": "https://localhost:8080/"
    },
    "id": "mXSK9TRgoyOZ",
    "outputId": "a151473d-a917-4727-f6e0-ab1d091916dc"
   },
   "outputs": [
    {
     "data": {
      "text/plain": [
       "array([0., 0., 0., 0., 0., 0., 0., 0., 0., 0.])"
      ]
     },
     "execution_count": 13,
     "metadata": {},
     "output_type": "execute_result"
    }
   ],
   "source": [
    "np.zeros(10)"
   ]
  },
  {
   "cell_type": "code",
   "execution_count": null,
   "metadata": {
    "colab": {
     "base_uri": "https://localhost:8080/"
    },
    "id": "IhIQFQfEd08A",
    "outputId": "421c479a-46eb-49e5-e6e9-80c4f5e3126b"
   },
   "outputs": [
    {
     "data": {
      "text/plain": [
       "array([[0., 0., 0., 0., 0., 0.],\n",
       "       [0., 0., 0., 0., 0., 0.],\n",
       "       [0., 0., 0., 0., 0., 0.]])"
      ]
     },
     "execution_count": 15,
     "metadata": {},
     "output_type": "execute_result"
    }
   ],
   "source": [
    "np.zeros((3, 6))"
   ]
  },
  {
   "cell_type": "code",
   "execution_count": null,
   "metadata": {
    "colab": {
     "base_uri": "https://localhost:8080/"
    },
    "id": "tZcMIxv3d3aF",
    "outputId": "ba26b930-22c8-4a18-d39d-52628c59898c"
   },
   "outputs": [
    {
     "data": {
      "text/plain": [
       "array([[[5.06245341e-310, 0.00000000e+000],\n",
       "        [0.00000000e+000, 0.00000000e+000],\n",
       "        [0.00000000e+000, 0.00000000e+000]],\n",
       "\n",
       "       [[0.00000000e+000, 0.00000000e+000],\n",
       "        [0.00000000e+000, 0.00000000e+000],\n",
       "        [0.00000000e+000, 0.00000000e+000]]])"
      ]
     },
     "execution_count": 16,
     "metadata": {},
     "output_type": "execute_result"
    }
   ],
   "source": [
    "np.empty((2, 3, 2))"
   ]
  },
  {
   "cell_type": "markdown",
   "metadata": {
    "id": "fV0FfY00eDQA"
   },
   "source": [
    "# Note:\n",
    "* It’s not safe to assume that np.empty will return an array of all zeros.\n",
    "* In some cases, it may return uninitialized “garbage” values."
   ]
  },
  {
   "cell_type": "markdown",
   "metadata": {
    "id": "BxfOlkOzeRpU"
   },
   "source": [
    "* **arange** is an array-valued version of the built-in Python range function:"
   ]
  },
  {
   "cell_type": "code",
   "execution_count": null,
   "metadata": {
    "colab": {
     "base_uri": "https://localhost:8080/"
    },
    "id": "tSt0uNWpoyOa",
    "outputId": "cea28118-ef89-4761-91a6-0a14c2e364d8"
   },
   "outputs": [
    {
     "data": {
      "text/plain": [
       "array([ 0,  1,  2,  3,  4,  5,  6,  7,  8,  9, 10, 11, 12, 13, 14])"
      ]
     },
     "execution_count": 17,
     "metadata": {},
     "output_type": "execute_result"
    }
   ],
   "source": [
    "np.arange(15)"
   ]
  },
  {
   "cell_type": "markdown",
   "metadata": {
    "id": "LQx626gFehNv"
   },
   "source": [
    "* Table below shows a short list of standard array creation functions.\n",
    "* Since NumPy is focused on numerical computing, the data type, if not specified, will in many cases be float64 (floating point).\n",
    "\n",
    "<p align=\"center\">\n",
    "    <img src=\"http://raghudathesh.weebly.com/uploads/4/8/9/6/48968251/1_orig.png\">\n",
    "</p>"
   ]
  },
  {
   "cell_type": "markdown",
   "metadata": {
    "id": "pAx7uENqoyOa"
   },
   "source": [
    "### Data Types for ndarrays\n",
    "\n",
    "* The data type or dtype is a special object containing the information (or metadata, data about data) the ndarray needs to interpret a chunk of memory as a particular type of data:"
   ]
  },
  {
   "cell_type": "code",
   "execution_count": null,
   "metadata": {
    "colab": {
     "base_uri": "https://localhost:8080/"
    },
    "id": "5CWpX84royOa",
    "outputId": "e44c7ad8-8075-4844-b03c-e79608869691"
   },
   "outputs": [
    {
     "data": {
      "text/plain": [
       "dtype('float64')"
      ]
     },
     "execution_count": 21,
     "metadata": {},
     "output_type": "execute_result"
    }
   ],
   "source": [
    "arr1 = np.array([1, 2, 3], dtype=np.float64)\n",
    "arr1.dtype"
   ]
  },
  {
   "cell_type": "code",
   "execution_count": null,
   "metadata": {
    "colab": {
     "base_uri": "https://localhost:8080/"
    },
    "id": "eYrvLKO9gl6g",
    "outputId": "552f27e8-fc8c-470a-a43f-1dd3793c52db"
   },
   "outputs": [
    {
     "data": {
      "text/plain": [
       "dtype('int32')"
      ]
     },
     "execution_count": 20,
     "metadata": {},
     "output_type": "execute_result"
    }
   ],
   "source": [
    "arr2 = np.array([1, 2, 3], dtype=np.int32)\n",
    "arr2.dtype"
   ]
  },
  {
   "cell_type": "markdown",
   "metadata": {
    "id": "Q_n8uwxOiJbM"
   },
   "source": [
    "* **dtypes** are a source of NumPy’s flexibility for interacting with data coming from other systems.\n",
    "* In most cases they provide a mapping directly onto an underlying disk or memory representation, which makes it easy to read and write binary streams of data to disk and also to connect to code written in a low-level language like C or Fortran.\n",
    "* The numerical dtypes are named the same way: a type name, like float or int, followed by a number indicating the number of bits per element.\n",
    "* A standard doubleprecision floating-point value (what’s used under the hood in Python’s float object) takes up 8 bytes or 64 bits. Thus, this type is known in NumPy as float64.\n",
    "*Table below provides a full listing of NumPy’s supported data types.\n",
    "\n",
    "<p align=\"center\">\n",
    "    <img src=\"http://raghudathesh.weebly.com/uploads/4/8/9/6/48968251/2_orig.png\">\n",
    "</p>"
   ]
  },
  {
   "cell_type": "markdown",
   "metadata": {
    "id": "oq3z59nMjKW9"
   },
   "source": [
    "* You can explicitly convert or cast an array from one dtype to another using ndarray’s **astype method**:"
   ]
  },
  {
   "cell_type": "code",
   "execution_count": null,
   "metadata": {
    "colab": {
     "base_uri": "https://localhost:8080/"
    },
    "id": "2jaeofMEoyOb",
    "outputId": "332253b7-f0ee-49fb-f50a-e196bb9576de"
   },
   "outputs": [
    {
     "name": "stdout",
     "output_type": "stream",
     "text": [
      "int64\n",
      "float64\n"
     ]
    }
   ],
   "source": [
    "arr = np.array([1, 2, 3, 4, 5])\n",
    "print(arr.dtype)\n",
    "float_arr = arr.astype(np.float64)\n",
    "print(float_arr.dtype)"
   ]
  },
  {
   "cell_type": "markdown",
   "metadata": {
    "id": "GlbuQct1jeQr"
   },
   "source": [
    "* In the above example, integers were cast to floating point.\n",
    "* If I cast some floating-point numbers to be of integer dtype, the decimal part will be truncated:"
   ]
  },
  {
   "cell_type": "code",
   "execution_count": null,
   "metadata": {
    "colab": {
     "base_uri": "https://localhost:8080/"
    },
    "id": "K7k643HJoyOb",
    "outputId": "9aaa5659-b30e-4de4-89ce-fa86e132063a"
   },
   "outputs": [
    {
     "name": "stdout",
     "output_type": "stream",
     "text": [
      "[ 3.7 -1.2 -2.6  0.5 12.9 10.1]\n",
      "[ 3 -1 -2  0 12 10]\n"
     ]
    }
   ],
   "source": [
    "arr = np.array([3.7, -1.2, -2.6, 0.5, 12.9, 10.1])\n",
    "print(arr)\n",
    "print(arr.astype(np.int32))"
   ]
  },
  {
   "cell_type": "markdown",
   "metadata": {
    "id": "73kQiYPhj7Dj"
   },
   "source": [
    "* If you have an array of strings representing numbers, you can use **astype** to convert them to numeric form:"
   ]
  },
  {
   "cell_type": "code",
   "execution_count": null,
   "metadata": {
    "colab": {
     "base_uri": "https://localhost:8080/"
    },
    "id": "Vu_WeNt9oyOc",
    "outputId": "0628614e-cfe3-4573-998e-ec0097a2d866"
   },
   "outputs": [
    {
     "data": {
      "text/plain": [
       "array([ 1.25, -9.6 , 42.  ])"
      ]
     },
     "execution_count": 24,
     "metadata": {},
     "output_type": "execute_result"
    }
   ],
   "source": [
    "numeric_strings = np.array(['1.25', '-9.6', '42'], dtype=np.string_)\n",
    "numeric_strings.astype(float)"
   ]
  },
  {
   "cell_type": "markdown",
   "metadata": {
    "id": "dqYaLQLnkMg0"
   },
   "source": [
    "# Note:\n",
    "* It’s important to be cautious when using the numpy.string_ type, as string data in NumPy is fixed size and may truncate input\n",
    "without warning.\n",
    "If casting were to fail for some reason (like a string that cannot be converted to float64), a ValueError will be raised."
   ]
  },
  {
   "cell_type": "markdown",
   "metadata": {
    "id": "rnp_xl6HkQCo"
   },
   "source": [
    "# Extra\n",
    "* We can use another array’s dtype attribute:"
   ]
  },
  {
   "cell_type": "code",
   "execution_count": null,
   "metadata": {
    "colab": {
     "base_uri": "https://localhost:8080/"
    },
    "id": "S-PnJeL7oyOc",
    "outputId": "a9296a6a-bd8e-4f6b-c6a4-f2f0661daba1"
   },
   "outputs": [
    {
     "data": {
      "text/plain": [
       "array([0., 1., 2., 3., 4., 5., 6., 7., 8., 9.])"
      ]
     },
     "execution_count": 25,
     "metadata": {},
     "output_type": "execute_result"
    }
   ],
   "source": [
    "int_array = np.arange(10)\n",
    "calibers = np.array([.22, .270, .357, .380, .44, .50], dtype=np.float64)\n",
    "int_array.astype(calibers.dtype)"
   ]
  },
  {
   "cell_type": "markdown",
   "metadata": {
    "id": "KLPvc5mKlA5X"
   },
   "source": [
    "# Extra\n",
    "* There are shorthand type code strings you can also use to refer to a dtype:"
   ]
  },
  {
   "cell_type": "code",
   "execution_count": null,
   "metadata": {
    "colab": {
     "base_uri": "https://localhost:8080/"
    },
    "id": "rAHMiQJXoyOc",
    "outputId": "a282b277-73ad-42e4-d81a-3b17778463fb"
   },
   "outputs": [
    {
     "data": {
      "text/plain": [
       "array([         0, 1075314688,          0, 1075707904,          0,\n",
       "       1075838976,          0, 1072693248], dtype=uint32)"
      ]
     },
     "execution_count": 26,
     "metadata": {},
     "output_type": "execute_result"
    }
   ],
   "source": [
    "empty_uint32 = np.empty(8, dtype='u4')\n",
    "empty_uint32"
   ]
  },
  {
   "cell_type": "markdown",
   "metadata": {
    "id": "-Oy48KTNoyOc"
   },
   "source": [
    "# Arithmetic with NumPy Arrays"
   ]
  },
  {
   "cell_type": "markdown",
   "metadata": {
    "id": "GulR_RtglUlO"
   },
   "source": [
    "* Arrays are important because **they enable you to express batch operations on data** without writing any for loops.\n",
    "* **NumPy users call this vectorization**. Any arithmetic operations between equal-size arrays applies the operation element-wise:"
   ]
  },
  {
   "cell_type": "code",
   "execution_count": null,
   "metadata": {
    "colab": {
     "base_uri": "https://localhost:8080/"
    },
    "id": "Nn-Di1f_oyOd",
    "outputId": "6e13587a-5252-40fd-dd8b-3350b36fdeb8"
   },
   "outputs": [
    {
     "data": {
      "text/plain": [
       "array([[1., 2., 3.],\n",
       "       [4., 5., 6.]])"
      ]
     },
     "execution_count": 27,
     "metadata": {},
     "output_type": "execute_result"
    }
   ],
   "source": [
    "arr = np.array([[1., 2., 3.], [4., 5., 6.]])\n",
    "arr"
   ]
  },
  {
   "cell_type": "code",
   "execution_count": null,
   "metadata": {
    "colab": {
     "base_uri": "https://localhost:8080/"
    },
    "id": "doVuyQgjlbmw",
    "outputId": "6afb5f9b-25cf-42ed-e7de-ad680fa966a3"
   },
   "outputs": [
    {
     "data": {
      "text/plain": [
       "array([[ 1.,  4.,  9.],\n",
       "       [16., 25., 36.]])"
      ]
     },
     "execution_count": 28,
     "metadata": {},
     "output_type": "execute_result"
    }
   ],
   "source": [
    "arr * arr"
   ]
  },
  {
   "cell_type": "code",
   "execution_count": null,
   "metadata": {
    "colab": {
     "base_uri": "https://localhost:8080/"
    },
    "id": "d0IWDuNgldvT",
    "outputId": "64b455c2-992b-40bf-ccf4-bf294981211b"
   },
   "outputs": [
    {
     "data": {
      "text/plain": [
       "array([[0., 0., 0.],\n",
       "       [0., 0., 0.]])"
      ]
     },
     "execution_count": 29,
     "metadata": {},
     "output_type": "execute_result"
    }
   ],
   "source": [
    "arr - arr"
   ]
  },
  {
   "cell_type": "markdown",
   "metadata": {
    "id": "ucLqn3fvliqe"
   },
   "source": [
    "* Arithmetic operations with scalars propagate the scalar argument to each element in the array:"
   ]
  },
  {
   "cell_type": "code",
   "execution_count": null,
   "metadata": {
    "colab": {
     "base_uri": "https://localhost:8080/"
    },
    "id": "9EebSIYwoyOd",
    "outputId": "446e295b-1fbd-4cca-bffe-cbbc17f75c5b"
   },
   "outputs": [
    {
     "data": {
      "text/plain": [
       "array([[1.        , 0.5       , 0.33333333],\n",
       "       [0.25      , 0.2       , 0.16666667]])"
      ]
     },
     "execution_count": 32,
     "metadata": {},
     "output_type": "execute_result"
    }
   ],
   "source": [
    "1 / arr"
   ]
  },
  {
   "cell_type": "code",
   "execution_count": null,
   "metadata": {
    "colab": {
     "base_uri": "https://localhost:8080/"
    },
    "id": "AUT4nwTYmcz3",
    "outputId": "0e43c2f1-6df6-4859-ea05-e18db6f8f6c3"
   },
   "outputs": [
    {
     "data": {
      "text/plain": [
       "array([[1.        , 1.41421356, 1.73205081],\n",
       "       [2.        , 2.23606798, 2.44948974]])"
      ]
     },
     "execution_count": 33,
     "metadata": {},
     "output_type": "execute_result"
    }
   ],
   "source": [
    "arr ** 0.5"
   ]
  },
  {
   "cell_type": "markdown",
   "metadata": {
    "id": "_fOmYQVVmjKP"
   },
   "source": [
    "* Comparisons between arrays of the same size yield boolean arrays:"
   ]
  },
  {
   "cell_type": "code",
   "execution_count": null,
   "metadata": {
    "colab": {
     "base_uri": "https://localhost:8080/"
    },
    "id": "tMx6n8o6muuX",
    "outputId": "0aa45b62-2c03-4861-dc8d-729c15d34a8e"
   },
   "outputs": [
    {
     "data": {
      "text/plain": [
       "array([[1., 2., 3.],\n",
       "       [4., 5., 6.]])"
      ]
     },
     "execution_count": 36,
     "metadata": {},
     "output_type": "execute_result"
    }
   ],
   "source": [
    "arr"
   ]
  },
  {
   "cell_type": "code",
   "execution_count": null,
   "metadata": {
    "colab": {
     "base_uri": "https://localhost:8080/"
    },
    "id": "BsVNJjzIoyOe",
    "outputId": "ff5510a2-4807-4a2b-eb96-d80636af53b1"
   },
   "outputs": [
    {
     "data": {
      "text/plain": [
       "array([[ 0.,  4.,  1.],\n",
       "       [ 7.,  2., 12.]])"
      ]
     },
     "execution_count": 34,
     "metadata": {},
     "output_type": "execute_result"
    }
   ],
   "source": [
    "arr2 = np.array([[0., 4., 1.], [7., 2., 12.]])\n",
    "arr2"
   ]
  },
  {
   "cell_type": "code",
   "execution_count": null,
   "metadata": {
    "colab": {
     "base_uri": "https://localhost:8080/"
    },
    "id": "BHJWaDYGmpkM",
    "outputId": "5c8a0fef-dced-4e40-98d4-40d8861c7c4f"
   },
   "outputs": [
    {
     "data": {
      "text/plain": [
       "array([[False,  True, False],\n",
       "       [ True, False,  True]])"
      ]
     },
     "execution_count": 35,
     "metadata": {},
     "output_type": "execute_result"
    }
   ],
   "source": [
    "arr2 > arr"
   ]
  },
  {
   "cell_type": "markdown",
   "metadata": {
    "id": "q6EiYMDNm9Au"
   },
   "source": [
    "* **Operations between differently sized arrays is called broadcasting and will be discussed later**."
   ]
  },
  {
   "cell_type": "markdown",
   "metadata": {
    "id": "-Z_M-hjloyOe"
   },
   "source": [
    "# Basic Indexing and Slicing"
   ]
  },
  {
   "cell_type": "markdown",
   "metadata": {
    "id": "CDVu0kmSnJ3D"
   },
   "source": [
    "* NumPy array indexing is a rich topic, as there are many ways you may want to select a subset of your data or individual elements.\n",
    "* One-dimensional arrays are simple; on the surface they act similarly to Python lists:"
   ]
  },
  {
   "cell_type": "code",
   "execution_count": null,
   "metadata": {
    "colab": {
     "base_uri": "https://localhost:8080/"
    },
    "id": "MGwRdChMoyOe",
    "outputId": "eacddcd9-599f-4ede-afb6-f966f6ce6a67"
   },
   "outputs": [
    {
     "data": {
      "text/plain": [
       "array([0, 1, 2, 3, 4, 5, 6, 7, 8, 9])"
      ]
     },
     "execution_count": 44,
     "metadata": {},
     "output_type": "execute_result"
    }
   ],
   "source": [
    "arr = np.arange(10)\n",
    "arr"
   ]
  },
  {
   "cell_type": "code",
   "execution_count": null,
   "metadata": {
    "colab": {
     "base_uri": "https://localhost:8080/"
    },
    "id": "HZqjTzJKnRVr",
    "outputId": "2dbc6f24-3d51-485f-e97f-14562eb85048"
   },
   "outputs": [
    {
     "data": {
      "text/plain": [
       "5"
      ]
     },
     "execution_count": 45,
     "metadata": {},
     "output_type": "execute_result"
    }
   ],
   "source": [
    "arr[5]"
   ]
  },
  {
   "cell_type": "code",
   "execution_count": null,
   "metadata": {
    "colab": {
     "base_uri": "https://localhost:8080/"
    },
    "id": "UNiUJY8XnUMk",
    "outputId": "aef919a6-6e95-4ff1-afba-af70203db805"
   },
   "outputs": [
    {
     "data": {
      "text/plain": [
       "array([5, 6, 7])"
      ]
     },
     "execution_count": 46,
     "metadata": {},
     "output_type": "execute_result"
    }
   ],
   "source": [
    "arr[5:8]"
   ]
  },
  {
   "cell_type": "code",
   "execution_count": null,
   "metadata": {
    "colab": {
     "base_uri": "https://localhost:8080/"
    },
    "id": "m0Yca4dxnWlz",
    "outputId": "0e70e1dd-b6b1-41b9-9318-abb110938c28"
   },
   "outputs": [
    {
     "data": {
      "text/plain": [
       "array([ 0,  1,  2,  3,  4, 12, 12, 12,  8,  9])"
      ]
     },
     "execution_count": 47,
     "metadata": {},
     "output_type": "execute_result"
    }
   ],
   "source": [
    "arr[5:8] = 12\n",
    "arr"
   ]
  },
  {
   "cell_type": "markdown",
   "metadata": {
    "id": "ivRgUlRpnke-"
   },
   "source": [
    "* As you can see, if you assign a scalar value to a slice, as in arr[5:8] = 12, the value is propagated (or broadcasted henceforth) to the entire selection.\n",
    "* An important first distinction from Python’s built-in lists is that array slices are views on the original array.\n",
    "* This means that the data is not copied, and any modifications to the view will be\n",
    "reflected in the source array."
   ]
  },
  {
   "cell_type": "code",
   "execution_count": null,
   "metadata": {
    "colab": {
     "base_uri": "https://localhost:8080/"
    },
    "id": "RDy6ck5koyOe",
    "outputId": "3cccd645-feae-4092-fd9c-3f45f872c93e"
   },
   "outputs": [
    {
     "data": {
      "text/plain": [
       "array([12, 12, 12])"
      ]
     },
     "execution_count": 48,
     "metadata": {},
     "output_type": "execute_result"
    }
   ],
   "source": [
    "arr_slice = arr[5:8]\n",
    "arr_slice"
   ]
  },
  {
   "cell_type": "markdown",
   "metadata": {
    "id": "A6oK-R0un4Mg"
   },
   "source": [
    "* Now,  **change values in arr_slice, the mutations are reflected in the original\n",
    "array arr**:"
   ]
  },
  {
   "cell_type": "code",
   "execution_count": null,
   "metadata": {
    "colab": {
     "base_uri": "https://localhost:8080/"
    },
    "id": "Bufh5OFjoyOf",
    "outputId": "5475ae2b-cfe3-482a-b011-847742c2d9b6"
   },
   "outputs": [
    {
     "data": {
      "text/plain": [
       "array([    0,     1,     2,     3,     4,    12, 12345,    12,     8,\n",
       "           9])"
      ]
     },
     "execution_count": 49,
     "metadata": {},
     "output_type": "execute_result"
    }
   ],
   "source": [
    "arr_slice[1] = 12345\n",
    "arr"
   ]
  },
  {
   "cell_type": "markdown",
   "metadata": {
    "id": "d0mgvykyoWC9"
   },
   "source": [
    "* The **“bare”** slice [:] will assign to all values in an array:"
   ]
  },
  {
   "cell_type": "code",
   "execution_count": null,
   "metadata": {
    "colab": {
     "base_uri": "https://localhost:8080/"
    },
    "id": "xE_hcLhGoyOf",
    "outputId": "d93e36bc-f9ee-43f4-de76-ac414622e94e"
   },
   "outputs": [
    {
     "data": {
      "text/plain": [
       "array([ 0,  1,  2,  3,  4, 64, 64, 64,  8,  9])"
      ]
     },
     "execution_count": 50,
     "metadata": {},
     "output_type": "execute_result"
    }
   ],
   "source": [
    "arr_slice[:] = 64\n",
    "arr"
   ]
  },
  {
   "cell_type": "markdown",
   "metadata": {
    "id": "dDg0MjjloplT"
   },
   "source": [
    "* If you are new to NumPy, you might be surprised by this, especially if you have used\n",
    "other array programming languages that copy data more eagerly.\n",
    "*  As NumPy has been designed to be able to work with very large arrays, you could imagine performance and memory problems if NumPy insisted on always copying data."
   ]
  },
  {
   "cell_type": "markdown",
   "metadata": {
    "id": "JN7pN8vVpFFd"
   },
   "source": [
    "* With higher dimensional arrays, you have many more options.\n",
    "* In a two-dimensional array, the elements at each index are no longer scalars but rather one-dimensional arrays:"
   ]
  },
  {
   "cell_type": "code",
   "execution_count": 11,
   "metadata": {
    "colab": {
     "base_uri": "https://localhost:8080/"
    },
    "id": "t-MXMs5MoyOf",
    "outputId": "2d3185d7-31da-43fc-e0eb-9caa76838c5d"
   },
   "outputs": [
    {
     "data": {
      "text/plain": [
       "array([7, 8, 9])"
      ]
     },
     "execution_count": 11,
     "metadata": {},
     "output_type": "execute_result"
    }
   ],
   "source": [
    "arr2d = np.array([[1, 2, 3], [4, 5, 6], [7, 8, 9]])\n",
    "arr2d[2]"
   ]
  },
  {
   "cell_type": "markdown",
   "metadata": {
    "id": "KQGQbRmfpeqE"
   },
   "source": [
    "* The individual elements in array can be accessed recursively. For this pass a comma-separated list of indices to select individual elements."
   ]
  },
  {
   "cell_type": "code",
   "execution_count": 12,
   "metadata": {
    "colab": {
     "base_uri": "https://localhost:8080/"
    },
    "id": "vjcTXDFapvUl",
    "outputId": "c40bf8d1-a766-4ac2-e784-69986cb56e9d"
   },
   "outputs": [
    {
     "data": {
      "text/plain": [
       "3"
      ]
     },
     "execution_count": 12,
     "metadata": {},
     "output_type": "execute_result"
    }
   ],
   "source": [
    "arr2d[0, 2]"
   ]
  },
  {
   "cell_type": "code",
   "execution_count": null,
   "metadata": {
    "colab": {
     "base_uri": "https://localhost:8080/"
    },
    "id": "Epe-tZqroyOg",
    "outputId": "1a288f31-db20-4474-a8e4-7e7cc5ee8cc2"
   },
   "outputs": [
    {
     "data": {
      "text/plain": [
       "6"
      ]
     },
     "execution_count": 7,
     "metadata": {},
     "output_type": "execute_result"
    }
   ],
   "source": [
    "arr2d[1][2]"
   ]
  },
  {
   "cell_type": "code",
   "execution_count": 14,
   "metadata": {},
   "outputs": [
    {
     "data": {
      "text/plain": [
       "array([[4, 5, 6],\n",
       "       [7, 8, 9]])"
      ]
     },
     "execution_count": 14,
     "metadata": {},
     "output_type": "execute_result"
    }
   ],
   "source": [
    "arr2d[1:]"
   ]
  },
  {
   "cell_type": "markdown",
   "metadata": {
    "id": "92FJDc-Np_rb"
   },
   "source": [
    "* In multidimensional arrays, if you omit later indices, the returned object will be a\n",
    "lower dimensional ndarray consisting of all the data along the higher dimensions.\n",
    "* So\n",
    "in the 2 × 2 × 3 array arr3d:"
   ]
  },
  {
   "cell_type": "code",
   "execution_count": 15,
   "metadata": {
    "colab": {
     "base_uri": "https://localhost:8080/"
    },
    "id": "gtEiHpREoyOg",
    "outputId": "94932e59-68b1-4684-8076-4a591f0d3510"
   },
   "outputs": [
    {
     "data": {
      "text/plain": [
       "array([[[ 1,  2,  3],\n",
       "        [ 4,  5,  6]],\n",
       "\n",
       "       [[ 7,  8,  9],\n",
       "        [10, 11, 12]]])"
      ]
     },
     "execution_count": 15,
     "metadata": {},
     "output_type": "execute_result"
    }
   ],
   "source": [
    "arr3d = np.array([[[1, 2, 3], [4, 5, 6]], [[7, 8, 9], [10, 11, 12]]])\n",
    "arr3d"
   ]
  },
  {
   "cell_type": "markdown",
   "metadata": {
    "id": "Fqlk2cTiqHix"
   },
   "source": [
    "* arr3d[0] is a 2 × 3 array:"
   ]
  },
  {
   "cell_type": "code",
   "execution_count": 16,
   "metadata": {
    "colab": {
     "base_uri": "https://localhost:8080/"
    },
    "id": "5b5MArsJoyOg",
    "outputId": "ac2436d7-4e10-4818-d8c8-e366a2848efe"
   },
   "outputs": [
    {
     "data": {
      "text/plain": [
       "array([[1, 2, 3],\n",
       "       [4, 5, 6]])"
      ]
     },
     "execution_count": 16,
     "metadata": {},
     "output_type": "execute_result"
    }
   ],
   "source": [
    "arr3d[0]"
   ]
  },
  {
   "cell_type": "code",
   "execution_count": null,
   "metadata": {
    "colab": {
     "base_uri": "https://localhost:8080/"
    },
    "id": "wyYz_YaEqOwn",
    "outputId": "94fc587a-6bbb-436a-bbdf-5ee215af7e19"
   },
   "outputs": [
    {
     "data": {
      "text/plain": [
       "array([[ 7,  8,  9],\n",
       "       [10, 11, 12]])"
      ]
     },
     "execution_count": 59,
     "metadata": {},
     "output_type": "execute_result"
    }
   ],
   "source": [
    "arr3d[1]"
   ]
  },
  {
   "cell_type": "code",
   "execution_count": 18,
   "metadata": {},
   "outputs": [
    {
     "data": {
      "text/plain": [
       "6"
      ]
     },
     "execution_count": 18,
     "metadata": {},
     "output_type": "execute_result"
    }
   ],
   "source": [
    "arr3d[0,1,2]"
   ]
  },
  {
   "cell_type": "markdown",
   "metadata": {
    "id": "zrb-KSpSqaT7"
   },
   "source": [
    "* Both scalar values and arrays can be assigned to arr3d[0]:"
   ]
  },
  {
   "cell_type": "code",
   "execution_count": null,
   "metadata": {
    "colab": {
     "base_uri": "https://localhost:8080/"
    },
    "id": "UHJ6laKioyOh",
    "outputId": "39ea2887-8d23-431c-9309-130522998647"
   },
   "outputs": [
    {
     "data": {
      "text/plain": [
       "array([[[42, 42, 42],\n",
       "        [42, 42, 42]],\n",
       "\n",
       "       [[ 7,  8,  9],\n",
       "        [10, 11, 12]]])"
      ]
     },
     "execution_count": 61,
     "metadata": {},
     "output_type": "execute_result"
    }
   ],
   "source": [
    "old_values = arr3d[0].copy()\n",
    "arr3d[0] = 42\n",
    "arr3d"
   ]
  },
  {
   "cell_type": "code",
   "execution_count": null,
   "metadata": {
    "colab": {
     "base_uri": "https://localhost:8080/"
    },
    "id": "FIAgH4AjymdX",
    "outputId": "ff30693c-2d75-4715-a8c3-9e26077705af"
   },
   "outputs": [
    {
     "data": {
      "text/plain": [
       "array([[[ 1,  2,  3],\n",
       "        [ 4,  5,  6]],\n",
       "\n",
       "       [[ 7,  8,  9],\n",
       "        [10, 11, 12]]])"
      ]
     },
     "execution_count": 62,
     "metadata": {},
     "output_type": "execute_result"
    }
   ],
   "source": [
    "arr3d[0] = old_values\n",
    "arr3d"
   ]
  },
  {
   "cell_type": "markdown",
   "metadata": {
    "id": "3KUS6C7aywmm"
   },
   "source": [
    "*  arr3d[1, 0] gives you all of the values whose indices start with (1, 0), forming a 1-dimensional array:"
   ]
  },
  {
   "cell_type": "code",
   "execution_count": null,
   "metadata": {
    "colab": {
     "base_uri": "https://localhost:8080/"
    },
    "id": "ufOgUkeBoyOh",
    "outputId": "cda2615f-255e-478a-def1-14e97d10aa14"
   },
   "outputs": [
    {
     "data": {
      "text/plain": [
       "array([7, 8, 9])"
      ]
     },
     "execution_count": 63,
     "metadata": {},
     "output_type": "execute_result"
    }
   ],
   "source": [
    "arr3d[1, 0]"
   ]
  },
  {
   "cell_type": "markdown",
   "metadata": {
    "id": "jI2pINuay63D"
   },
   "source": [
    "* This expression is the same as though we had indexed in two steps:"
   ]
  },
  {
   "cell_type": "code",
   "execution_count": null,
   "metadata": {
    "colab": {
     "base_uri": "https://localhost:8080/"
    },
    "id": "1BgVvtTyoyOh",
    "outputId": "19724b8e-75df-4e80-8a6d-234b95f80e5e"
   },
   "outputs": [
    {
     "data": {
      "text/plain": [
       "array([[ 7,  8,  9],\n",
       "       [10, 11, 12]])"
      ]
     },
     "execution_count": 64,
     "metadata": {},
     "output_type": "execute_result"
    }
   ],
   "source": [
    "x = arr3d[1]\n",
    "x"
   ]
  },
  {
   "cell_type": "code",
   "execution_count": null,
   "metadata": {
    "colab": {
     "base_uri": "https://localhost:8080/"
    },
    "id": "-OmPEJupzFeX",
    "outputId": "a3757ae8-a204-43bf-9ea1-39e074e512ac"
   },
   "outputs": [
    {
     "data": {
      "text/plain": [
       "array([7, 8, 9])"
      ]
     },
     "execution_count": 65,
     "metadata": {},
     "output_type": "execute_result"
    }
   ],
   "source": [
    "x[0]"
   ]
  },
  {
   "cell_type": "markdown",
   "metadata": {
    "id": "ucDMAMbFzNXz"
   },
   "source": [
    "* Note that in all of these cases where subsections of the array have been selected, the returned arrays are views."
   ]
  },
  {
   "cell_type": "markdown",
   "metadata": {
    "id": "abWEeQeuoyOh"
   },
   "source": [
    "# Indexing with slices\n",
    "\n",
    "* Like one-dimensional objects such as Python lists, ndarrays can be sliced with the\n",
    "familiar syntax:"
   ]
  },
  {
   "cell_type": "code",
   "execution_count": null,
   "metadata": {
    "colab": {
     "base_uri": "https://localhost:8080/"
    },
    "id": "W8LlGYz0oyOi",
    "outputId": "ae0d5359-d6fa-4eae-b293-edaa260472f8"
   },
   "outputs": [
    {
     "data": {
      "text/plain": [
       "array([ 0,  1,  2,  3,  4, 64, 64, 64,  8,  9])"
      ]
     },
     "execution_count": 66,
     "metadata": {},
     "output_type": "execute_result"
    }
   ],
   "source": [
    "arr"
   ]
  },
  {
   "cell_type": "code",
   "execution_count": null,
   "metadata": {
    "colab": {
     "base_uri": "https://localhost:8080/"
    },
    "id": "Jj-lytxOzp6M",
    "outputId": "0b5c8bc1-78e4-4ffa-da27-b77d3f695b00"
   },
   "outputs": [
    {
     "data": {
      "text/plain": [
       "array([ 1,  2,  3,  4, 64])"
      ]
     },
     "execution_count": 67,
     "metadata": {},
     "output_type": "execute_result"
    }
   ],
   "source": [
    "arr[1:6]"
   ]
  },
  {
   "cell_type": "markdown",
   "metadata": {
    "id": "TG5wL3TbztRW"
   },
   "source": [
    "* Consider the two-dimensional array from before, arr2d. Slicing this array is a bit\n",
    "different:"
   ]
  },
  {
   "cell_type": "code",
   "execution_count": null,
   "metadata": {
    "colab": {
     "base_uri": "https://localhost:8080/"
    },
    "id": "DTZdqU4ooyOi",
    "outputId": "61530e23-0103-4043-b679-69377eee93b7"
   },
   "outputs": [
    {
     "data": {
      "text/plain": [
       "array([[1, 2, 3],\n",
       "       [4, 5, 6],\n",
       "       [7, 8, 9]])"
      ]
     },
     "execution_count": 68,
     "metadata": {},
     "output_type": "execute_result"
    }
   ],
   "source": [
    "arr2d"
   ]
  },
  {
   "cell_type": "code",
   "execution_count": null,
   "metadata": {
    "colab": {
     "base_uri": "https://localhost:8080/"
    },
    "id": "TTqSUGA-zyuF",
    "outputId": "da7ae754-1973-47dc-a8d3-c742a1437157"
   },
   "outputs": [
    {
     "data": {
      "text/plain": [
       "array([[1, 2, 3],\n",
       "       [4, 5, 6]])"
      ]
     },
     "execution_count": 69,
     "metadata": {},
     "output_type": "execute_result"
    }
   ],
   "source": [
    "arr2d[:2]"
   ]
  },
  {
   "cell_type": "markdown",
   "metadata": {
    "id": "djv0jRf9z90o"
   },
   "source": [
    "* As you can see, it has sliced along axis 0, the first axis.\n",
    "* A slice, therefore, selects a\n",
    "range of elements along an axis. It can be helpful to read the expression arr2d[:2] as **select the first two rows of arr2d**."
   ]
  },
  {
   "cell_type": "code",
   "execution_count": null,
   "metadata": {
    "colab": {
     "base_uri": "https://localhost:8080/"
    },
    "id": "l2bKC5kEoyOi",
    "outputId": "8a3b69df-fc9e-40b3-82bd-357ed5109279"
   },
   "outputs": [
    {
     "data": {
      "text/plain": [
       "array([[2, 3],\n",
       "       [5, 6]])"
      ]
     },
     "execution_count": 70,
     "metadata": {},
     "output_type": "execute_result"
    }
   ],
   "source": [
    "arr2d[:2, 1:]"
   ]
  },
  {
   "cell_type": "markdown",
   "metadata": {
    "id": "t4h24ABDDEN4"
   },
   "source": [
    "**Guess the output**"
   ]
  },
  {
   "cell_type": "code",
   "execution_count": 19,
   "metadata": {
    "id": "Ps_cEzWlC5qi"
   },
   "outputs": [
    {
     "data": {
      "text/plain": [
       "array([[1, 2, 3],\n",
       "       [4, 5, 6]])"
      ]
     },
     "execution_count": 19,
     "metadata": {},
     "output_type": "execute_result"
    }
   ],
   "source": [
    "arr2d[:2, 0:]"
   ]
  },
  {
   "cell_type": "markdown",
   "metadata": {
    "id": "xAhEB5Tt0RWB"
   },
   "source": [
    "* When slicing like this, always obtain array views of the same number of dimensions.\n",
    "* By mixing integer indexes and slices, you get lower dimensional slices."
   ]
  },
  {
   "cell_type": "markdown",
   "metadata": {
    "id": "zHRgfRVu0bqj"
   },
   "source": [
    "* For example, We can select the second row but only the first two columns like so:"
   ]
  },
  {
   "cell_type": "code",
   "execution_count": null,
   "metadata": {
    "colab": {
     "base_uri": "https://localhost:8080/"
    },
    "id": "lyU-gpHOoyOj",
    "outputId": "27917239-3627-4b93-cecd-675ee4e9a957"
   },
   "outputs": [
    {
     "data": {
      "text/plain": [
       "array([4, 5])"
      ]
     },
     "execution_count": 71,
     "metadata": {},
     "output_type": "execute_result"
    }
   ],
   "source": [
    "arr2d[1, :2]"
   ]
  },
  {
   "cell_type": "markdown",
   "metadata": {
    "id": "9M5sxc-q0hep"
   },
   "source": [
    "* Similarly, we can select the third column but only the first two rows like so:"
   ]
  },
  {
   "cell_type": "code",
   "execution_count": null,
   "metadata": {
    "colab": {
     "base_uri": "https://localhost:8080/"
    },
    "id": "ZD8YGxLfoyOj",
    "outputId": "b1ee745f-9a37-49c3-cc31-c27f7d956d58"
   },
   "outputs": [
    {
     "data": {
      "text/plain": [
       "array([3, 6])"
      ]
     },
     "execution_count": 72,
     "metadata": {},
     "output_type": "execute_result"
    }
   ],
   "source": [
    "arr2d[:2, 2]"
   ]
  },
  {
   "cell_type": "markdown",
   "metadata": {
    "id": "QtmvygkD0uw8"
   },
   "source": [
    "* A colon by itself means to take the entire\n",
    "axis, so you can slice only higher dimensional axes by doing:"
   ]
  },
  {
   "cell_type": "code",
   "execution_count": null,
   "metadata": {
    "colab": {
     "base_uri": "https://localhost:8080/"
    },
    "id": "GyXhRd2hoyOj",
    "outputId": "bfff92cd-d2fb-4d68-8163-8d9f779270e2"
   },
   "outputs": [
    {
     "data": {
      "text/plain": [
       "array([[1],\n",
       "       [4],\n",
       "       [7]])"
      ]
     },
     "execution_count": 73,
     "metadata": {},
     "output_type": "execute_result"
    }
   ],
   "source": [
    "arr2d[:, :1]"
   ]
  },
  {
   "cell_type": "markdown",
   "metadata": {
    "id": "VpRQg_0RDbo4"
   },
   "source": [
    "* The Instruction can be read as select all the rows and first column elements."
   ]
  },
  {
   "cell_type": "markdown",
   "metadata": {
    "id": "IiHOtap501UD"
   },
   "source": [
    "* Assigning to a slice expression assigns to the whole selection:"
   ]
  },
  {
   "cell_type": "code",
   "execution_count": null,
   "metadata": {
    "colab": {
     "base_uri": "https://localhost:8080/"
    },
    "id": "k6AzG71coyOk",
    "outputId": "8bc9ada0-c72a-42e2-cf7c-2bc41a7e1a0c"
   },
   "outputs": [
    {
     "data": {
      "text/plain": [
       "array([[1, 0, 0],\n",
       "       [4, 0, 0],\n",
       "       [7, 8, 9]])"
      ]
     },
     "execution_count": 74,
     "metadata": {},
     "output_type": "execute_result"
    }
   ],
   "source": [
    "arr2d[:2, 1:] = 0\n",
    "arr2d"
   ]
  },
  {
   "cell_type": "markdown",
   "metadata": {
    "id": "zurwG0V7oyOk"
   },
   "source": [
    "### Boolean Indexing\n",
    "* Let’s consider an example where we have some data in an array and an array of names\n",
    "with duplicates.\n",
    "* We going to use here the randn function in **numpy.random** to generate some random normally distributed data:"
   ]
  },
  {
   "cell_type": "code",
   "execution_count": null,
   "metadata": {
    "colab": {
     "base_uri": "https://localhost:8080/"
    },
    "id": "4XR2h3--oyOk",
    "outputId": "1f545041-f9a3-478d-d0af-6cee4bc40022"
   },
   "outputs": [
    {
     "name": "stdout",
     "output_type": "stream",
     "text": [
      "['Mohit' 'Varshini' 'Sunil' 'Mohit' 'Varshini' 'Sunil' 'Sunil']\n",
      "[[ 1.61573158 -0.21467493 -0.55691091 -1.35529545]\n",
      " [ 0.63141381 -0.5910019   0.34113241  0.72124421]\n",
      " [-1.46798961  0.21982993  0.83232813 -1.06998477]\n",
      " [ 0.62967722  0.17273545  0.97245692 -1.13220514]\n",
      " [ 1.58912009  1.21402402 -1.17556876 -0.8562653 ]\n",
      " [ 0.10232066  1.62910022 -0.87208083 -1.26009825]\n",
      " [ 1.46412524 -0.60206117 -1.24660508 -1.06261898]]\n"
     ]
    }
   ],
   "source": [
    "names = np.array(['Mohit', 'Varshini', 'Sunil', 'Mohit', 'Varshini', 'Sunil', 'Sunil'])\n",
    "data = np.random.randn(7, 4)\n",
    "print(names)\n",
    "print(data)"
   ]
  },
  {
   "cell_type": "markdown",
   "metadata": {
    "id": "axAm50Lm1oHI"
   },
   "source": [
    "* Suppose each name corresponds to a row in the data array and we wanted to select\n",
    "all the rows with corresponding name 'Mohit'.\n",
    "* Like arithmetic operations, comparisons (such as ==) with arrays are also vectorized.\n",
    "* Thus, comparing names with the string 'Mohit' yields a boolean array:"
   ]
  },
  {
   "cell_type": "code",
   "execution_count": null,
   "metadata": {
    "colab": {
     "base_uri": "https://localhost:8080/"
    },
    "id": "adrTEvNaoyOk",
    "outputId": "726aaeaa-6601-4ea9-8fcd-638aae40718a"
   },
   "outputs": [
    {
     "data": {
      "text/plain": [
       "array([ True, False, False,  True, False, False, False])"
      ]
     },
     "execution_count": 10,
     "metadata": {},
     "output_type": "execute_result"
    }
   ],
   "source": [
    "names == 'Mohit'"
   ]
  },
  {
   "cell_type": "markdown",
   "metadata": {
    "id": "K41Gc9mb15sZ"
   },
   "source": [
    "* This boolean array can be passed when indexing the array:"
   ]
  },
  {
   "cell_type": "code",
   "execution_count": null,
   "metadata": {
    "colab": {
     "base_uri": "https://localhost:8080/"
    },
    "id": "NQZqGsW4oyOl",
    "outputId": "d5cae53c-8deb-4da5-9758-e64b49d2996f"
   },
   "outputs": [
    {
     "data": {
      "text/plain": [
       "array([[ 1.61573158, -0.21467493, -0.55691091, -1.35529545],\n",
       "       [ 0.62967722,  0.17273545,  0.97245692, -1.13220514]])"
      ]
     },
     "execution_count": 12,
     "metadata": {},
     "output_type": "execute_result"
    }
   ],
   "source": [
    "data[names == 'Mohit']"
   ]
  },
  {
   "cell_type": "markdown",
   "metadata": {
    "id": "m_55nyhx2CbQ"
   },
   "source": [
    "* The boolean array must be of the same length as the array axis it’s indexing.\n",
    "* You can even mix and match boolean arrays with slices or integers."
   ]
  },
  {
   "cell_type": "markdown",
   "metadata": {
    "id": "uwxeiCjc2K5O"
   },
   "source": [
    "* Here we select from the rows where names == 'Mohit' and index the columns, too:"
   ]
  },
  {
   "cell_type": "code",
   "execution_count": null,
   "metadata": {
    "colab": {
     "base_uri": "https://localhost:8080/"
    },
    "id": "nJpfcwhzoyOl",
    "outputId": "2de47fb8-67d3-4bb8-a5ca-1fc49b011cb6"
   },
   "outputs": [
    {
     "data": {
      "text/plain": [
       "array([[-0.55691091, -1.35529545],\n",
       "       [ 0.97245692, -1.13220514]])"
      ]
     },
     "execution_count": 13,
     "metadata": {},
     "output_type": "execute_result"
    }
   ],
   "source": [
    "data[names == 'Mohit', 2:]"
   ]
  },
  {
   "cell_type": "code",
   "execution_count": null,
   "metadata": {
    "colab": {
     "base_uri": "https://localhost:8080/"
    },
    "id": "UoIN7EGY2T6G",
    "outputId": "c92ab17f-ff49-4718-afb4-344cb3e3d150"
   },
   "outputs": [
    {
     "data": {
      "text/plain": [
       "array([-1.35529545, -1.13220514])"
      ]
     },
     "execution_count": 14,
     "metadata": {},
     "output_type": "execute_result"
    }
   ],
   "source": [
    "data[names == 'Mohit', 3]"
   ]
  },
  {
   "cell_type": "markdown",
   "metadata": {
    "id": "TTVmHz6h21oZ"
   },
   "source": [
    "* * To select everything but 'Mohit', you can either use **!=** or negate the condition using **~**:"
   ]
  },
  {
   "cell_type": "code",
   "execution_count": null,
   "metadata": {
    "colab": {
     "base_uri": "https://localhost:8080/"
    },
    "id": "QYkppt5woyOl",
    "outputId": "55ca1607-0727-49a0-9be2-9c06121c4dfe"
   },
   "outputs": [
    {
     "data": {
      "text/plain": [
       "array([False,  True,  True, False,  True,  True,  True])"
      ]
     },
     "execution_count": 15,
     "metadata": {},
     "output_type": "execute_result"
    }
   ],
   "source": [
    "names != 'Mohit'"
   ]
  },
  {
   "cell_type": "code",
   "execution_count": null,
   "metadata": {
    "colab": {
     "base_uri": "https://localhost:8080/"
    },
    "id": "lYtyrIqV2-ab",
    "outputId": "efe6d16e-d490-4da6-ea72-d413a59b69d6"
   },
   "outputs": [
    {
     "data": {
      "text/plain": [
       "array([[ 0.63141381, -0.5910019 ,  0.34113241,  0.72124421],\n",
       "       [-1.46798961,  0.21982993,  0.83232813, -1.06998477],\n",
       "       [ 1.58912009,  1.21402402, -1.17556876, -0.8562653 ],\n",
       "       [ 0.10232066,  1.62910022, -0.87208083, -1.26009825],\n",
       "       [ 1.46412524, -0.60206117, -1.24660508, -1.06261898]])"
      ]
     },
     "execution_count": 16,
     "metadata": {},
     "output_type": "execute_result"
    }
   ],
   "source": [
    "data[~(names == 'Mohit')]"
   ]
  },
  {
   "cell_type": "markdown",
   "metadata": {
    "id": "IFe_uzm-3Ef0"
   },
   "source": [
    "* The ~ operator can be useful when you want to invert a general condition:"
   ]
  },
  {
   "cell_type": "code",
   "execution_count": null,
   "metadata": {
    "colab": {
     "base_uri": "https://localhost:8080/"
    },
    "id": "uQCgc_-2oyOm",
    "outputId": "cda7994e-24c6-4c4d-837a-4079a1eb7fdc"
   },
   "outputs": [
    {
     "data": {
      "text/plain": [
       "array([[ 0.63141381, -0.5910019 ,  0.34113241,  0.72124421],\n",
       "       [-1.46798961,  0.21982993,  0.83232813, -1.06998477],\n",
       "       [ 1.58912009,  1.21402402, -1.17556876, -0.8562653 ],\n",
       "       [ 0.10232066,  1.62910022, -0.87208083, -1.26009825],\n",
       "       [ 1.46412524, -0.60206117, -1.24660508, -1.06261898]])"
      ]
     },
     "execution_count": 17,
     "metadata": {},
     "output_type": "execute_result"
    }
   ],
   "source": [
    "cond = names == 'Mohit'\n",
    "data[~cond]"
   ]
  },
  {
   "cell_type": "markdown",
   "metadata": {
    "id": "wnsIvsVD3LMg"
   },
   "source": [
    "* Selecting two of the three names to combine multiple boolean conditions, use\n",
    "boolean arithmetic operators like & (and) and | (or):"
   ]
  },
  {
   "cell_type": "code",
   "execution_count": null,
   "metadata": {
    "colab": {
     "base_uri": "https://localhost:8080/"
    },
    "id": "-yYXtt6DoyOm",
    "outputId": "2105a1bc-6882-4e4f-eb4c-467e1424ba37"
   },
   "outputs": [
    {
     "data": {
      "text/plain": [
       "array([ True, False,  True,  True, False,  True,  True])"
      ]
     },
     "execution_count": 18,
     "metadata": {},
     "output_type": "execute_result"
    }
   ],
   "source": [
    "mask = (names == 'Mohit') | (names == 'Sunil')\n",
    "mask"
   ]
  },
  {
   "cell_type": "code",
   "execution_count": null,
   "metadata": {
    "colab": {
     "base_uri": "https://localhost:8080/"
    },
    "id": "s-1iQASy3RCh",
    "outputId": "5d27d726-f43c-41d1-c79f-dda7dcf236fc"
   },
   "outputs": [
    {
     "data": {
      "text/plain": [
       "array([[ 1.61573158, -0.21467493, -0.55691091, -1.35529545],\n",
       "       [-1.46798961,  0.21982993,  0.83232813, -1.06998477],\n",
       "       [ 0.62967722,  0.17273545,  0.97245692, -1.13220514],\n",
       "       [ 0.10232066,  1.62910022, -0.87208083, -1.26009825],\n",
       "       [ 1.46412524, -0.60206117, -1.24660508, -1.06261898]])"
      ]
     },
     "execution_count": 19,
     "metadata": {},
     "output_type": "execute_result"
    }
   ],
   "source": [
    "data[mask]"
   ]
  },
  {
   "cell_type": "markdown",
   "metadata": {
    "id": "aQVTj3TC3WJb"
   },
   "source": [
    "* Selecting data from an array by boolean indexing always creates a copy of the data,\n",
    "even if the returned array is unchanged."
   ]
  },
  {
   "cell_type": "markdown",
   "metadata": {
    "id": "mVqCUS6S3cDE"
   },
   "source": [
    "* Setting values with boolean arrays works in a common-sense way.\n",
    "* To set all of the negative values in data to 0 we need only do:"
   ]
  },
  {
   "cell_type": "code",
   "execution_count": null,
   "metadata": {
    "colab": {
     "base_uri": "https://localhost:8080/"
    },
    "id": "L1LxOiunoyOm",
    "outputId": "0e927302-df19-4115-b157-91a55331d883"
   },
   "outputs": [
    {
     "data": {
      "text/plain": [
       "array([[1.61573158, 0.        , 0.        , 0.        ],\n",
       "       [0.63141381, 0.        , 0.34113241, 0.72124421],\n",
       "       [0.        , 0.21982993, 0.83232813, 0.        ],\n",
       "       [0.62967722, 0.17273545, 0.97245692, 0.        ],\n",
       "       [1.58912009, 1.21402402, 0.        , 0.        ],\n",
       "       [0.10232066, 1.62910022, 0.        , 0.        ],\n",
       "       [1.46412524, 0.        , 0.        , 0.        ]])"
      ]
     },
     "execution_count": 20,
     "metadata": {},
     "output_type": "execute_result"
    }
   ],
   "source": [
    "data[data < 0] = 0\n",
    "data"
   ]
  },
  {
   "cell_type": "markdown",
   "metadata": {
    "id": "r1335KLv3i2m"
   },
   "source": [
    "* Setting whole rows or columns using a one-dimensional boolean array is also easy:"
   ]
  },
  {
   "cell_type": "code",
   "execution_count": null,
   "metadata": {
    "colab": {
     "base_uri": "https://localhost:8080/"
    },
    "id": "EwXYGgIvoyOm",
    "outputId": "5f557271-47bf-494c-a9e1-d43b0f844fbb"
   },
   "outputs": [
    {
     "data": {
      "text/plain": [
       "array([[7.        , 7.        , 7.        , 7.        ],\n",
       "       [0.63141381, 0.        , 0.34113241, 0.72124421],\n",
       "       [7.        , 7.        , 7.        , 7.        ],\n",
       "       [7.        , 7.        , 7.        , 7.        ],\n",
       "       [1.58912009, 1.21402402, 0.        , 0.        ],\n",
       "       [7.        , 7.        , 7.        , 7.        ],\n",
       "       [7.        , 7.        , 7.        , 7.        ]])"
      ]
     },
     "execution_count": 21,
     "metadata": {},
     "output_type": "execute_result"
    }
   ],
   "source": [
    "data[names != 'Varshini'] = 7\n",
    "data"
   ]
  },
  {
   "cell_type": "markdown",
   "metadata": {
    "id": "9QEr1w8DoyOn"
   },
   "source": [
    "### Fancy Indexing\n",
    "\n",
    "* Fancy indexing is a term adopted by NumPy to describe indexing using integer arrays.\n",
    "* Suppose we had an 8 × 4 array:"
   ]
  },
  {
   "cell_type": "code",
   "execution_count": 29,
   "metadata": {
    "colab": {
     "base_uri": "https://localhost:8080/"
    },
    "id": "0mO2RjOwoyOn",
    "outputId": "763ba3d0-8e19-4fa4-d0b4-13be6c2c9c05"
   },
   "outputs": [
    {
     "data": {
      "text/plain": [
       "array([[0., 0., 0., 0.],\n",
       "       [1., 1., 1., 1.],\n",
       "       [2., 2., 2., 2.],\n",
       "       [3., 3., 3., 3.],\n",
       "       [4., 4., 4., 4.],\n",
       "       [5., 5., 5., 5.],\n",
       "       [6., 6., 6., 6.],\n",
       "       [7., 7., 7., 7.]])"
      ]
     },
     "execution_count": 29,
     "metadata": {},
     "output_type": "execute_result"
    }
   ],
   "source": [
    "arr = np.empty((8, 4))\n",
    "\n",
    "for i in range(8):\n",
    "    arr[i]=i\n",
    "        \n",
    "arr"
   ]
  },
  {
   "cell_type": "markdown",
   "metadata": {
    "id": "Ds6IJ-Qx30am"
   },
   "source": [
    "* To select out a subset of the rows in a particular order, you can simply pass a list or\n",
    "ndarray of integers specifying the desired order:"
   ]
  },
  {
   "cell_type": "code",
   "execution_count": null,
   "metadata": {
    "colab": {
     "base_uri": "https://localhost:8080/"
    },
    "id": "uZKtm4XOoyOn",
    "outputId": "062f3326-6b76-4e17-c1fd-75e6937a4643"
   },
   "outputs": [
    {
     "data": {
      "text/plain": [
       "array([[4., 4., 4., 4.],\n",
       "       [3., 3., 3., 3.],\n",
       "       [0., 0., 0., 0.],\n",
       "       [6., 6., 6., 6.]])"
      ]
     },
     "execution_count": 88,
     "metadata": {},
     "output_type": "execute_result"
    }
   ],
   "source": [
    "arr[[4, 3, 0, 6]]"
   ]
  },
  {
   "cell_type": "markdown",
   "metadata": {
    "id": "sXhdpkS1371v"
   },
   "source": [
    "* Using negative indices selects rows from\n",
    "the end:"
   ]
  },
  {
   "cell_type": "code",
   "execution_count": null,
   "metadata": {
    "colab": {
     "base_uri": "https://localhost:8080/"
    },
    "id": "5jP19jVwoyOn",
    "outputId": "894f48b8-8346-494c-fe49-da09374cf189"
   },
   "outputs": [
    {
     "data": {
      "text/plain": [
       "array([[5., 5., 5., 5.],\n",
       "       [3., 3., 3., 3.],\n",
       "       [1., 1., 1., 1.]])"
      ]
     },
     "execution_count": 89,
     "metadata": {},
     "output_type": "execute_result"
    }
   ],
   "source": [
    "arr[[-3, -5, -7]]"
   ]
  },
  {
   "cell_type": "markdown",
   "metadata": {
    "id": "Bee3ta814CbP"
   },
   "source": [
    "* Passing multiple index arrays does something slightly different; it selects a onedimensional array of elements corresponding to each tuple of indices:"
   ]
  },
  {
   "cell_type": "code",
   "execution_count": null,
   "metadata": {
    "colab": {
     "base_uri": "https://localhost:8080/"
    },
    "id": "_ejPv2cxoyOo",
    "outputId": "b8c9da92-848e-43f5-a2b8-8996076309a5"
   },
   "outputs": [
    {
     "data": {
      "text/plain": [
       "array([[ 0,  1,  2,  3],\n",
       "       [ 4,  5,  6,  7],\n",
       "       [ 8,  9, 10, 11],\n",
       "       [12, 13, 14, 15],\n",
       "       [16, 17, 18, 19],\n",
       "       [20, 21, 22, 23],\n",
       "       [24, 25, 26, 27],\n",
       "       [28, 29, 30, 31]])"
      ]
     },
     "execution_count": 90,
     "metadata": {},
     "output_type": "execute_result"
    }
   ],
   "source": [
    "arr = np.arange(32).reshape((8, 4))\n",
    "arr"
   ]
  },
  {
   "cell_type": "code",
   "execution_count": null,
   "metadata": {
    "colab": {
     "base_uri": "https://localhost:8080/"
    },
    "id": "bzUPGUsg4Nau",
    "outputId": "025dae5c-5025-47c6-ac98-dc0fd2220f25"
   },
   "outputs": [
    {
     "data": {
      "text/plain": [
       "array([ 4, 23, 29, 10])"
      ]
     },
     "execution_count": 92,
     "metadata": {},
     "output_type": "execute_result"
    }
   ],
   "source": [
    "arr[[1, 5, 7, 2], [0, 3, 1, 2]]"
   ]
  },
  {
   "cell_type": "markdown",
   "metadata": {
    "id": "I4LwLcxy4a_R"
   },
   "source": [
    "* Here the elements (1, 0), (5, 3), (7, 1), and (2, 2) were selected. Regardless of\n",
    "how many dimensions the array has (here, only 2), the result of fancy indexing is\n",
    "always one-dimensional."
   ]
  },
  {
   "cell_type": "markdown",
   "metadata": {
    "id": "Hw6_hY4Q4fQ9"
   },
   "source": []
  },
  {
   "cell_type": "code",
   "execution_count": null,
   "metadata": {
    "id": "9XpNP6qCoyOo"
   },
   "outputs": [],
   "source": []
  },
  {
   "cell_type": "markdown",
   "metadata": {
    "id": "p0Ts_0rx4pXJ"
   },
   "source": [
    "# Note:\n",
    "* Keep in mind that fancy indexing, unlike slicing, always copies the data into a new\n",
    "array."
   ]
  },
  {
   "cell_type": "markdown",
   "metadata": {
    "id": "9f_p3cJ2oyOo"
   },
   "source": [
    "### Transposing Arrays and Swapping Axes\n",
    "* Transposing is a special form of reshaping that similarly returns a view on the underlying data without copying anything.\n",
    "* Arrays have the transpose method and also the\n",
    "special T attribute:"
   ]
  },
  {
   "cell_type": "code",
   "execution_count": null,
   "metadata": {
    "colab": {
     "base_uri": "https://localhost:8080/"
    },
    "id": "UxzKfMfvoyOo",
    "outputId": "960a584d-c77e-4f0f-b8fd-1c12878c1086"
   },
   "outputs": [
    {
     "data": {
      "text/plain": [
       "array([[ 0,  1,  2,  3,  4],\n",
       "       [ 5,  6,  7,  8,  9],\n",
       "       [10, 11, 12, 13, 14]])"
      ]
     },
     "execution_count": 93,
     "metadata": {},
     "output_type": "execute_result"
    }
   ],
   "source": [
    "arr = np.arange(15).reshape((3, 5))\n",
    "arr"
   ]
  },
  {
   "cell_type": "code",
   "execution_count": null,
   "metadata": {
    "colab": {
     "base_uri": "https://localhost:8080/"
    },
    "id": "7Dax0lJB5L-b",
    "outputId": "6c612506-e3bf-4ae6-f0e3-b9c0aa71bc6a"
   },
   "outputs": [
    {
     "data": {
      "text/plain": [
       "array([[ 0,  5, 10],\n",
       "       [ 1,  6, 11],\n",
       "       [ 2,  7, 12],\n",
       "       [ 3,  8, 13],\n",
       "       [ 4,  9, 14]])"
      ]
     },
     "execution_count": 94,
     "metadata": {},
     "output_type": "execute_result"
    }
   ],
   "source": [
    "arr.T"
   ]
  },
  {
   "cell_type": "markdown",
   "metadata": {
    "id": "dQWdugNV5Q9L"
   },
   "source": [
    "* When doing matrix computations, you may do this very often for example, when computing the inner matrix product using np.dot:"
   ]
  },
  {
   "cell_type": "code",
   "execution_count": null,
   "metadata": {
    "colab": {
     "base_uri": "https://localhost:8080/"
    },
    "id": "O2fe1iW3oyOq",
    "outputId": "4dde4f32-1c4d-46ab-d951-943f2d77b9ae"
   },
   "outputs": [
    {
     "data": {
      "text/plain": [
       "array([[-0.00718572, -0.20022277, -1.26057403],\n",
       "       [-0.9569538 ,  0.26044122, -1.3634736 ],\n",
       "       [ 0.60256131, -1.44772897,  0.83503816],\n",
       "       [-0.96793901, -0.7622255 ,  1.18116813],\n",
       "       [ 0.40691467, -1.96490864,  0.0403457 ],\n",
       "       [-0.96404316,  0.03334688, -0.0567573 ]])"
      ]
     },
     "execution_count": 95,
     "metadata": {},
     "output_type": "execute_result"
    }
   ],
   "source": [
    "arr = np.random.randn(6, 3)\n",
    "arr"
   ]
  },
  {
   "cell_type": "code",
   "execution_count": null,
   "metadata": {
    "colab": {
     "base_uri": "https://localhost:8080/"
    },
    "id": "4Y0HhF0u5Ygb",
    "outputId": "4786b6f4-0147-441b-b476-0d1e799ffd8f"
   },
   "outputs": [
    {
     "data": {
      "text/plain": [
       "array([[ 3.31075703, -1.2140471 ,  0.7448361 ],\n",
       "       [-1.2140471 ,  6.64680362, -2.2931028 ],\n",
       "       [ 0.7448361 , -2.2931028 ,  5.54540319]])"
      ]
     },
     "execution_count": 96,
     "metadata": {},
     "output_type": "execute_result"
    }
   ],
   "source": [
    "np.dot(arr.T, arr)"
   ]
  },
  {
   "cell_type": "markdown",
   "metadata": {
    "id": "9IIo3prV5dlw"
   },
   "source": [
    "* For higher dimensional arrays, transpose will accept a tuple of axis numbers to permute the axes (for extra mind bending):"
   ]
  },
  {
   "cell_type": "code",
   "execution_count": 31,
   "metadata": {
    "colab": {
     "base_uri": "https://localhost:8080/"
    },
    "id": "7GpJL_yioyOq",
    "outputId": "7a6f1630-0cdc-4d7a-f370-d6838559924a"
   },
   "outputs": [
    {
     "data": {
      "text/plain": [
       "array([[[ 0,  1,  2,  3],\n",
       "        [ 4,  5,  6,  7]],\n",
       "\n",
       "       [[ 8,  9, 10, 11],\n",
       "        [12, 13, 14, 15]]])"
      ]
     },
     "execution_count": 31,
     "metadata": {},
     "output_type": "execute_result"
    }
   ],
   "source": [
    "arr = np.arange(16).reshape((2, 2, 4))\n",
    "arr"
   ]
  },
  {
   "cell_type": "markdown",
   "metadata": {
    "id": "LXYWaFkEzgXP"
   },
   "source": [
    "* Above is 3D array with two \"layers\", each layer containing two rows and four columns.\n",
    "* The data within the array are sequential integers.\n",
    "---\n",
    "* Access element at layer 0, row 1, column 2 (value: 6)\n"
   ]
  },
  {
   "cell_type": "code",
   "execution_count": null,
   "metadata": {
    "colab": {
     "base_uri": "https://localhost:8080/"
    },
    "id": "dqQ4GuWUz8x4",
    "outputId": "9c9c711d-0a5f-4a1a-9f78-fab3151ed887"
   },
   "outputs": [
    {
     "data": {
      "text/plain": [
       "6"
      ]
     },
     "execution_count": 6,
     "metadata": {},
     "output_type": "execute_result"
    }
   ],
   "source": [
    "element = arr[0, 1, 2]\n",
    "element"
   ]
  },
  {
   "cell_type": "markdown",
   "metadata": {
    "id": "UIkdkIQ20gNp"
   },
   "source": [
    "* Access entire second row of layer 1 (values: [12, 13, 14, 15])\n"
   ]
  },
  {
   "cell_type": "code",
   "execution_count": null,
   "metadata": {
    "colab": {
     "base_uri": "https://localhost:8080/"
    },
    "id": "jV5w0-zX0h6h",
    "outputId": "82c3bab1-6ca4-4531-9fa9-f4af77976cf3"
   },
   "outputs": [
    {
     "data": {
      "text/plain": [
       "array([12, 13, 14, 15])"
      ]
     },
     "execution_count": 8,
     "metadata": {},
     "output_type": "execute_result"
    }
   ],
   "source": [
    "second_row_layer_1 = arr[1, 1, :]\n",
    "second_row_layer_1"
   ]
  },
  {
   "cell_type": "markdown",
   "metadata": {
    "id": "tPClOtsw00zK"
   },
   "source": [
    "* Access entire first layer (both rows and all columns)\n"
   ]
  },
  {
   "cell_type": "code",
   "execution_count": null,
   "metadata": {
    "colab": {
     "base_uri": "https://localhost:8080/"
    },
    "id": "9YFwBJt-03xc",
    "outputId": "29947b23-6b81-49b3-9b75-2a75b36bbe66"
   },
   "outputs": [
    {
     "data": {
      "text/plain": [
       "array([[0, 1, 2, 3],\n",
       "       [4, 5, 6, 7]])"
      ]
     },
     "execution_count": 10,
     "metadata": {},
     "output_type": "execute_result"
    }
   ],
   "source": [
    "first_layer = arr[0, :, :]\n",
    "first_layer"
   ]
  },
  {
   "cell_type": "markdown",
   "metadata": {
    "id": "-qf-g4Zb65W6"
   },
   "source": [
    "# **arr.transpose((layers/num_sub_array, X_axis(should be same for both), Y_axis))**\n",
    "* The transpose() function in NumPy permutes the dimensions of an array based on the order specified.\n",
    "* For the given arr example\n",
    "  * This array has dimensions (2, 2, 4), meaning:\n",
    "    * 2 layers, each layer containing:\n",
    "      * 2 rows, and each row containing:\n",
    "        * 4 columns\n"
   ]
  },
  {
   "cell_type": "markdown",
   "metadata": {
    "id": "sm5YLvWJ7EiE"
   },
   "source": [
    "Case1:Original:2,2,4 After transpose2,2,4  "
   ]
  },
  {
   "cell_type": "code",
   "execution_count": null,
   "metadata": {
    "colab": {
     "base_uri": "https://localhost:8080/"
    },
    "id": "S2-5eMRG7Jqe",
    "outputId": "a2e25a0f-b608-428a-de35-e1e1a4986887"
   },
   "outputs": [
    {
     "data": {
      "text/plain": [
       "array([[[ 0,  1,  2,  3],\n",
       "        [ 4,  5,  6,  7]],\n",
       "\n",
       "       [[ 8,  9, 10, 11],\n",
       "        [12, 13, 14, 15]]])"
      ]
     },
     "execution_count": 8,
     "metadata": {},
     "output_type": "execute_result"
    }
   ],
   "source": [
    "arr.transpose((0, 1, 2))"
   ]
  },
  {
   "cell_type": "markdown",
   "metadata": {
    "id": "Vz-B-hSy7Oj1"
   },
   "source": [
    "Case2: Changing layer/sub_array, rows/X_axis keeping Column/Yaxis as it is.\n",
    "\n",
    "  Here in frist sub array rows of first orignal sub array will be there as it is.\n",
    "\n",
    "  Original:2,2,4 After transpose2,2,4 (2lay,2row,4col)"
   ]
  },
  {
   "cell_type": "code",
   "execution_count": null,
   "metadata": {
    "colab": {
     "base_uri": "https://localhost:8080/"
    },
    "id": "CbJYcWmT5jlh",
    "outputId": "d2f9e99a-3085-4683-c2cc-1f67565ae8db"
   },
   "outputs": [
    {
     "data": {
      "text/plain": [
       "array([[[ 0,  1,  2,  3],\n",
       "        [ 8,  9, 10, 11]],\n",
       "\n",
       "       [[ 4,  5,  6,  7],\n",
       "        [12, 13, 14, 15]]])"
      ]
     },
     "execution_count": 4,
     "metadata": {},
     "output_type": "execute_result"
    }
   ],
   "source": [
    "arr.transpose((1, 0, 2))"
   ]
  },
  {
   "cell_type": "markdown",
   "metadata": {
    "id": "Wm5_A6zv3IyZ"
   },
   "source": [
    "Case3: Changing rows/X_axis and Column/Y_axis ad keeping  Layer as it is.\n",
    "\n",
    "Original:2,2,4 After transpose2,4,2 (2lay,4row,2col)"
   ]
  },
  {
   "cell_type": "code",
   "execution_count": null,
   "metadata": {
    "colab": {
     "base_uri": "https://localhost:8080/"
    },
    "id": "D3LwoJ6R5Gjr",
    "outputId": "cbb362e4-9ee8-493b-c5a4-2fa97813edc7"
   },
   "outputs": [
    {
     "data": {
      "text/plain": [
       "array([[[ 0,  4],\n",
       "        [ 1,  5],\n",
       "        [ 2,  6],\n",
       "        [ 3,  7]],\n",
       "\n",
       "       [[ 8, 12],\n",
       "        [ 9, 13],\n",
       "        [10, 14],\n",
       "        [11, 15]]])"
      ]
     },
     "execution_count": 6,
     "metadata": {},
     "output_type": "execute_result"
    }
   ],
   "source": [
    "arr.transpose((0, 2, 1))"
   ]
  },
  {
   "cell_type": "code",
   "execution_count": 33,
   "metadata": {},
   "outputs": [
    {
     "data": {
      "text/plain": [
       "array([[[ 0,  4],\n",
       "        [ 8, 12]],\n",
       "\n",
       "       [[ 1,  5],\n",
       "        [ 9, 13]],\n",
       "\n",
       "       [[ 2,  6],\n",
       "        [10, 14]],\n",
       "\n",
       "       [[ 3,  7],\n",
       "        [11, 15]]])"
      ]
     },
     "execution_count": 33,
     "metadata": {},
     "output_type": "execute_result"
    }
   ],
   "source": [
    "arr.transpose(2,0,1)"
   ]
  },
  {
   "cell_type": "code",
   "execution_count": 34,
   "metadata": {},
   "outputs": [
    {
     "data": {
      "text/plain": [
       "array([[[ 0,  8],\n",
       "        [ 1,  9],\n",
       "        [ 2, 10],\n",
       "        [ 3, 11]],\n",
       "\n",
       "       [[ 4, 12],\n",
       "        [ 5, 13],\n",
       "        [ 6, 14],\n",
       "        [ 7, 15]]])"
      ]
     },
     "execution_count": 34,
     "metadata": {},
     "output_type": "execute_result"
    }
   ],
   "source": [
    "arr.transpose(1,2,0)"
   ]
  },
  {
   "cell_type": "markdown",
   "metadata": {
    "id": "WsxIN1l65pGh"
   },
   "source": [
    "* Here, the axes have been reordered with the second axis first, the first axis second,\n",
    "and the last axis unchanged."
   ]
  },
  {
   "cell_type": "markdown",
   "metadata": {
    "id": "G-jRfwsF86MA"
   },
   "source": [
    "# Assignment: Try for 2X3X4\n",
    "* arr = np.arange(24).reshape((2, 3, 4))\n",
    "* Case 1: arr.transpose((0, 1, 2))\n",
    "* Case1:Original:2,3,4 After transpose ________\n",
    "\n",
    "---\n",
    "* arr.transpose((1, 0, 2))\n",
    "* Case 2: Case1:Original:2,3,4 After transpose ________\n",
    "---\n",
    "* arr.transpose((0, 2, 1))\n",
    "* Case 2: Case1:Original:2,3,4 After transpose ________\n"
   ]
  },
  {
   "cell_type": "markdown",
   "metadata": {
    "id": "JLt2h31k97jU"
   },
   "source": [
    "# Assignment Solution"
   ]
  },
  {
   "cell_type": "code",
   "execution_count": null,
   "metadata": {
    "id": "gxDkIJYd-Cj8"
   },
   "outputs": [],
   "source": [
    "import numpy as np"
   ]
  },
  {
   "cell_type": "code",
   "execution_count": null,
   "metadata": {
    "colab": {
     "base_uri": "https://localhost:8080/"
    },
    "id": "yw7TOhcp-FSj",
    "outputId": "d5a841a6-1c9a-4970-ead1-3d68ac585485"
   },
   "outputs": [
    {
     "data": {
      "text/plain": [
       "array([[[ 0,  1,  2,  3],\n",
       "        [ 4,  5,  6,  7],\n",
       "        [ 8,  9, 10, 11]],\n",
       "\n",
       "       [[12, 13, 14, 15],\n",
       "        [16, 17, 18, 19],\n",
       "        [20, 21, 22, 23]]])"
      ]
     },
     "execution_count": 2,
     "metadata": {},
     "output_type": "execute_result"
    }
   ],
   "source": [
    "arr = np.arange(24).reshape((2, 3, 4))\n",
    "arr"
   ]
  },
  {
   "cell_type": "code",
   "execution_count": null,
   "metadata": {
    "colab": {
     "base_uri": "https://localhost:8080/"
    },
    "id": "jvxqifm5-G6M",
    "outputId": "c72ecb68-12f9-465f-ca84-36a9279e3b15"
   },
   "outputs": [
    {
     "data": {
      "text/plain": [
       "array([[[ 0,  1,  2,  3],\n",
       "        [ 4,  5,  6,  7],\n",
       "        [ 8,  9, 10, 11]],\n",
       "\n",
       "       [[12, 13, 14, 15],\n",
       "        [16, 17, 18, 19],\n",
       "        [20, 21, 22, 23]]])"
      ]
     },
     "execution_count": 3,
     "metadata": {},
     "output_type": "execute_result"
    }
   ],
   "source": [
    "arr.transpose((0, 1, 2))"
   ]
  },
  {
   "cell_type": "code",
   "execution_count": null,
   "metadata": {
    "colab": {
     "base_uri": "https://localhost:8080/"
    },
    "id": "e8PnM4QJ-KLE",
    "outputId": "9d8761a7-59cc-4a76-afdd-bc7fa13dc74a"
   },
   "outputs": [
    {
     "data": {
      "text/plain": [
       "array([[[ 0,  1,  2,  3],\n",
       "        [12, 13, 14, 15]],\n",
       "\n",
       "       [[ 4,  5,  6,  7],\n",
       "        [16, 17, 18, 19]],\n",
       "\n",
       "       [[ 8,  9, 10, 11],\n",
       "        [20, 21, 22, 23]]])"
      ]
     },
     "execution_count": 4,
     "metadata": {},
     "output_type": "execute_result"
    }
   ],
   "source": [
    "arr.transpose((1, 0, 2))"
   ]
  },
  {
   "cell_type": "code",
   "execution_count": null,
   "metadata": {
    "colab": {
     "base_uri": "https://localhost:8080/"
    },
    "id": "NyEuCmfb-Lmc",
    "outputId": "a171a9a4-6aa5-4e00-ce0a-516d5848e0e1"
   },
   "outputs": [
    {
     "data": {
      "text/plain": [
       "array([[[ 0,  4,  8],\n",
       "        [ 1,  5,  9],\n",
       "        [ 2,  6, 10],\n",
       "        [ 3,  7, 11]],\n",
       "\n",
       "       [[12, 16, 20],\n",
       "        [13, 17, 21],\n",
       "        [14, 18, 22],\n",
       "        [15, 19, 23]]])"
      ]
     },
     "execution_count": 5,
     "metadata": {},
     "output_type": "execute_result"
    }
   ],
   "source": [
    "arr.transpose((0, 2, 1))"
   ]
  },
  {
   "cell_type": "markdown",
   "metadata": {
    "id": "onQ68P4F96rK"
   },
   "source": []
  },
  {
   "cell_type": "markdown",
   "metadata": {
    "id": "136LDDZe5qli"
   },
   "source": [
    "* Simple transposing with **.T** is a special case of swapping axes. ndarray has the method\n",
    "swapaxes, which takes a pair of axis numbers and switches the indicated axes to rear‐\n",
    "range the data:"
   ]
  },
  {
   "cell_type": "code",
   "execution_count": null,
   "metadata": {
    "colab": {
     "base_uri": "https://localhost:8080/"
    },
    "id": "NZvTIq_noyOq",
    "outputId": "ca819b40-a6f0-4128-9895-ac93e1cc2d26"
   },
   "outputs": [
    {
     "data": {
      "text/plain": [
       "array([[[ 0,  1,  2,  3],\n",
       "        [ 4,  5,  6,  7]],\n",
       "\n",
       "       [[ 8,  9, 10, 11],\n",
       "        [12, 13, 14, 15]]])"
      ]
     },
     "execution_count": 99,
     "metadata": {},
     "output_type": "execute_result"
    }
   ],
   "source": [
    "arr"
   ]
  },
  {
   "cell_type": "code",
   "execution_count": null,
   "metadata": {
    "colab": {
     "base_uri": "https://localhost:8080/"
    },
    "id": "asnHfDEG5x0R",
    "outputId": "6d9b6490-c16a-42df-f067-af158a860c1a"
   },
   "outputs": [
    {
     "data": {
      "text/plain": [
       "array([[[ 0,  4],\n",
       "        [ 1,  5],\n",
       "        [ 2,  6],\n",
       "        [ 3,  7]],\n",
       "\n",
       "       [[ 8, 12],\n",
       "        [ 9, 13],\n",
       "        [10, 14],\n",
       "        [11, 15]]])"
      ]
     },
     "execution_count": 100,
     "metadata": {},
     "output_type": "execute_result"
    }
   ],
   "source": [
    "arr.swapaxes(1, 2)"
   ]
  },
  {
   "cell_type": "markdown",
   "metadata": {
    "id": "IKrU1afr521k"
   },
   "source": [
    "* swapaxes similarly returns a view on the data without making a copy."
   ]
  },
  {
   "cell_type": "markdown",
   "metadata": {
    "id": "_MzYdphCoyOq"
   },
   "source": [
    "# Universal Functions: Fast Element-Wise Array Functions\n",
    "\n",
    "* A universal function, or **ufunc**, is a function that performs element-wise operations\n",
    "on data in ndarrays.\n",
    "* You can think of them as fast vectorized wrappers for simple functions that take one or more scalar values and produce one or more scalar results.\n",
    "* Many ufuncs are simple element-wise transformations, like sqrt or exp:"
   ]
  },
  {
   "cell_type": "code",
   "execution_count": null,
   "metadata": {
    "colab": {
     "base_uri": "https://localhost:8080/"
    },
    "id": "YyPqo2-toyOq",
    "outputId": "13b107df-76cd-4d07-b414-7b7292de0e4a"
   },
   "outputs": [
    {
     "data": {
      "text/plain": [
       "array([0, 1, 2, 3, 4, 5, 6, 7, 8, 9])"
      ]
     },
     "execution_count": 12,
     "metadata": {},
     "output_type": "execute_result"
    }
   ],
   "source": [
    "arr = np.arange(10)\n",
    "arr"
   ]
  },
  {
   "cell_type": "code",
   "execution_count": null,
   "metadata": {
    "colab": {
     "base_uri": "https://localhost:8080/"
    },
    "id": "TLUDp3px4Bvp",
    "outputId": "bfa4d77d-6465-4374-b2a2-c1b284733fd1"
   },
   "outputs": [
    {
     "data": {
      "text/plain": [
       "array([0.        , 1.        , 1.41421356, 1.73205081, 2.        ,\n",
       "       2.23606798, 2.44948974, 2.64575131, 2.82842712, 3.        ])"
      ]
     },
     "execution_count": 13,
     "metadata": {},
     "output_type": "execute_result"
    }
   ],
   "source": [
    "np.sqrt(arr)"
   ]
  },
  {
   "cell_type": "code",
   "execution_count": null,
   "metadata": {
    "colab": {
     "base_uri": "https://localhost:8080/"
    },
    "id": "sILJIO8m4FMB",
    "outputId": "1e86d745-f8ad-4b6b-9628-15c4ed4d7bad"
   },
   "outputs": [
    {
     "data": {
      "text/plain": [
       "array([1.00000000e+00, 2.71828183e+00, 7.38905610e+00, 2.00855369e+01,\n",
       "       5.45981500e+01, 1.48413159e+02, 4.03428793e+02, 1.09663316e+03,\n",
       "       2.98095799e+03, 8.10308393e+03])"
      ]
     },
     "execution_count": 14,
     "metadata": {},
     "output_type": "execute_result"
    }
   ],
   "source": [
    "np.exp(arr)"
   ]
  },
  {
   "cell_type": "markdown",
   "metadata": {
    "id": "-D9Gayf-4e6i"
   },
   "source": [
    "* These are referred to as unary ufuncs. Others, such as add or maximum, take two arrays\n",
    "(thus, binary ufuncs) and return a single array as the result:"
   ]
  },
  {
   "cell_type": "code",
   "execution_count": null,
   "metadata": {
    "colab": {
     "base_uri": "https://localhost:8080/"
    },
    "id": "PkF1mUKWoyOr",
    "outputId": "60bb41d0-bd12-49a8-dc00-8e38ed8e989d"
   },
   "outputs": [
    {
     "data": {
      "text/plain": [
       "array([-0.2869084 , -0.88389244,  0.34473302,  0.61051233, -0.23785825,\n",
       "        1.04468705,  0.57701908, -1.9112522 ])"
      ]
     },
     "execution_count": 15,
     "metadata": {},
     "output_type": "execute_result"
    }
   ],
   "source": [
    "x = np.random.randn(8)\n",
    "y = np.random.randn(8)\n",
    "x"
   ]
  },
  {
   "cell_type": "code",
   "execution_count": null,
   "metadata": {
    "colab": {
     "base_uri": "https://localhost:8080/"
    },
    "id": "p4vE6t6-4ouO",
    "outputId": "b654861b-6baf-4b39-8cc5-57d6d2afc14d"
   },
   "outputs": [
    {
     "data": {
      "text/plain": [
       "array([ 1.96263332,  0.35200703, -0.28472385, -1.05566558,  0.03175724,\n",
       "       -0.17300332, -0.83083281, -0.53321045])"
      ]
     },
     "execution_count": 16,
     "metadata": {},
     "output_type": "execute_result"
    }
   ],
   "source": [
    "y"
   ]
  },
  {
   "cell_type": "code",
   "execution_count": null,
   "metadata": {
    "colab": {
     "base_uri": "https://localhost:8080/"
    },
    "id": "LLE7CeFa4tHN",
    "outputId": "8070d371-674b-48cd-c391-d6cc7a294763"
   },
   "outputs": [
    {
     "data": {
      "text/plain": [
       "array([ 1.96263332,  0.35200703,  0.34473302,  0.61051233,  0.03175724,\n",
       "        1.04468705,  0.57701908, -0.53321045])"
      ]
     },
     "execution_count": 17,
     "metadata": {},
     "output_type": "execute_result"
    }
   ],
   "source": [
    "np.maximum(x, y)"
   ]
  },
  {
   "cell_type": "markdown",
   "metadata": {
    "id": "PgMqFhuV42Kd"
   },
   "source": [
    "* Here, **numpy.maximum** computed the element-wise maximum of the elements in x and\n",
    "y."
   ]
  },
  {
   "cell_type": "markdown",
   "metadata": {
    "id": "A7KaepSn5kX4"
   },
   "source": [
    "# Unary ufuncs\n",
    "\n",
    "<p align=\"center\">\n",
    "    <img src=\"http://raghudathesh.weebly.com/uploads/4/8/9/6/48968251/4_orig.png\">\n",
    "</p>"
   ]
  },
  {
   "cell_type": "markdown",
   "metadata": {
    "id": "qoPXQHow8CGd"
   },
   "source": [
    "# Binary universal functions\n",
    "\n",
    "<p align=\"center\">\n",
    "    <img src=\"http://raghudathesh.weebly.com/uploads/4/8/9/6/48968251/5_orig.png\">\n",
    "</p>"
   ]
  },
  {
   "cell_type": "code",
   "execution_count": null,
   "metadata": {
    "id": "EU5XNcCm8SNe"
   },
   "outputs": [],
   "source": []
  },
  {
   "cell_type": "markdown",
   "metadata": {
    "id": "pkRoMFxJoyOr"
   },
   "source": [
    "# Array-Oriented Programming with Arrays\n",
    "\n",
    "* Using NumPy arrays enables you to express many kinds of data processing tasks as concise array expressions that might otherwise require writing loops.\n",
    "* This practice of replacing explicit loops with array expressions is commonly referred to as vectorization.\n",
    "* In general, vectorized array operations will often be one or two (or more) orders of magnitude faster than their pure Python equivalents, with the biggest impact in any kind of numerical computations."
   ]
  },
  {
   "cell_type": "markdown",
   "metadata": {
    "id": "iM2-CFTa_jN_"
   },
   "source": [
    "## Example\n",
    "* Suppose we wished to evaluate the function sqrt(x^2 + y^2) across a regular grid of values.\n",
    "* The np.meshgrid function takes two 1D arrays and produces two 2D matrices corresponding to all pairs of (x, y) in the two arrays:\n",
    "* np.meshgrid is a function provided by the NumPy library in Python, which is commonly used for creating coordinate grids.\n",
    "It's particularly useful when you want to create a grid of coordinates for evaluating functions or plotting 2D or 3D data.\n",
    "This function generates two or more N-dimensional arrays that represent the coordinates of points in a grid, based on input arrays specifying the ranges for each dimension.\n",
    "* The general syntax of np.meshgrid is as follows:\n",
    "\n",
    "\n",
    "> * import numpy as np\n",
    "> * x_values = np.linspace(start_x, end_x, num_points_x)\n",
    "> * y_values = np.linspace(start_y, end_y, num_points_y)\n",
    "> * x_grid, y_grid = np.meshgrid(x_values, y_values)"
   ]
  },
  {
   "cell_type": "code",
   "execution_count": 2,
   "metadata": {
    "id": "b7fiiuhVyBba"
   },
   "outputs": [],
   "source": [
    "points = np.arange(-5, 5, 0.01) # 1000 equally spaced points"
   ]
  },
  {
   "cell_type": "code",
   "execution_count": 3,
   "metadata": {
    "colab": {
     "base_uri": "https://localhost:8080/"
    },
    "id": "M5Iug1NWABaN",
    "outputId": "6ad88d14-cccf-43fa-df37-6a1cb1195059"
   },
   "outputs": [
    {
     "data": {
      "text/plain": [
       "array([[-5.  , -5.  , -5.  , ..., -5.  , -5.  , -5.  ],\n",
       "       [-4.99, -4.99, -4.99, ..., -4.99, -4.99, -4.99],\n",
       "       [-4.98, -4.98, -4.98, ..., -4.98, -4.98, -4.98],\n",
       "       ...,\n",
       "       [ 4.97,  4.97,  4.97, ...,  4.97,  4.97,  4.97],\n",
       "       [ 4.98,  4.98,  4.98, ...,  4.98,  4.98,  4.98],\n",
       "       [ 4.99,  4.99,  4.99, ...,  4.99,  4.99,  4.99]])"
      ]
     },
     "execution_count": 3,
     "metadata": {},
     "output_type": "execute_result"
    }
   ],
   "source": [
    "xs, ys = np.meshgrid(points, points)\n",
    "ys"
   ]
  },
  {
   "cell_type": "markdown",
   "metadata": {
    "id": "GYpCG_R8G4ih"
   },
   "source": [
    "* Now, evaluating the function is a matter of writing the same expression you would write with two points:"
   ]
  },
  {
   "cell_type": "code",
   "execution_count": 4,
   "metadata": {
    "colab": {
     "base_uri": "https://localhost:8080/"
    },
    "id": "fv0qQRtzoyOs",
    "outputId": "6cfdfe33-f54e-4411-c50a-9a519c2b6746"
   },
   "outputs": [
    {
     "data": {
      "text/plain": [
       "array([[7.07106781, 7.06400028, 7.05693985, ..., 7.04988652, 7.05693985,\n",
       "        7.06400028],\n",
       "       [7.06400028, 7.05692568, 7.04985815, ..., 7.04279774, 7.04985815,\n",
       "        7.05692568],\n",
       "       [7.05693985, 7.04985815, 7.04278354, ..., 7.03571603, 7.04278354,\n",
       "        7.04985815],\n",
       "       ...,\n",
       "       [7.04988652, 7.04279774, 7.03571603, ..., 7.0286414 , 7.03571603,\n",
       "        7.04279774],\n",
       "       [7.05693985, 7.04985815, 7.04278354, ..., 7.03571603, 7.04278354,\n",
       "        7.04985815],\n",
       "       [7.06400028, 7.05692568, 7.04985815, ..., 7.04279774, 7.04985815,\n",
       "        7.05692568]])"
      ]
     },
     "execution_count": 4,
     "metadata": {},
     "output_type": "execute_result"
    }
   ],
   "source": [
    "z = np.sqrt(xs ** 2 + ys ** 2)\n",
    "z"
   ]
  },
  {
   "cell_type": "markdown",
   "metadata": {
    "id": "cp_3Z0EJoyOt"
   },
   "source": [
    "# Expressing Conditional Logic as Array Operations\n",
    "\n",
    "* The numpy.where function is a vectorized version of the ternary expression x if condition else y.\n",
    "* Suppose we had a boolean array and two arrays of values:"
   ]
  },
  {
   "cell_type": "code",
   "execution_count": null,
   "metadata": {
    "id": "aY4GWwm7oyOt"
   },
   "outputs": [],
   "source": [
    "xarr = np.array([1.1, 1.2, 1.3, 1.4, 1.5])\n",
    "yarr = np.array([2.1, 2.2, 2.3, 2.4, 2.5])\n",
    "cond = np.array([True, False, True, True, False])"
   ]
  },
  {
   "cell_type": "markdown",
   "metadata": {
    "id": "FQTs6Zc4HXwH"
   },
   "source": [
    "* Suppose we wanted to take a value from xarr whenever the corresponding value in cond is True, and otherwise take the value from yarr.\n",
    "* A list comprehension doing this might look like:"
   ]
  },
  {
   "cell_type": "code",
   "execution_count": null,
   "metadata": {
    "colab": {
     "base_uri": "https://localhost:8080/"
    },
    "id": "bl-O0Ze7oyOt",
    "outputId": "ae11d5de-3d3c-465c-c1af-23de1ea31451"
   },
   "outputs": [
    {
     "data": {
      "text/plain": [
       "[1.1, 2.2, 1.3, 1.4, 2.5]"
      ]
     },
     "execution_count": 10,
     "metadata": {},
     "output_type": "execute_result"
    }
   ],
   "source": [
    "result = [(x if c else y)\n",
    "          for x, y, c in zip(xarr, yarr, cond)]\n",
    "result"
   ]
  },
  {
   "cell_type": "markdown",
   "metadata": {
    "id": "Q-ejAF_BJ3dM"
   },
   "source": [
    "* This has multiple problems.\n",
    "  * First, it will not be very fast for large arrays (because all the work is being done in interpreted Python code).\n",
    "  * Second, it will not work with multidimensional arrays.\n",
    "  * With np.where you can write this very concisely:"
   ]
  },
  {
   "cell_type": "code",
   "execution_count": null,
   "metadata": {
    "colab": {
     "base_uri": "https://localhost:8080/"
    },
    "id": "2B-xruJqoyOu",
    "outputId": "53a853e1-f655-4d5c-bedb-e1a315922abc"
   },
   "outputs": [
    {
     "data": {
      "text/plain": [
       "array([1.1, 2.2, 1.3, 1.4, 2.5])"
      ]
     },
     "execution_count": 17,
     "metadata": {},
     "output_type": "execute_result"
    }
   ],
   "source": [
    "result = np.where(cond, xarr, yarr)\n",
    "result"
   ]
  },
  {
   "cell_type": "markdown",
   "metadata": {
    "id": "euGlLlavKrFh"
   },
   "source": [
    "* The second and third arguments to np.where don’t need to be arrays; one or both of them can be scalars.\n",
    "* A typical use of where in data analysis is to produce a new array\n",
    "of values based on another array.\n",
    "* Suppose you had a matrix of randomly generated data and you wanted to replace all positive values with 2 and all negative values with –2.\n",
    "* This is very easy to do with np.where:"
   ]
  },
  {
   "cell_type": "code",
   "execution_count": null,
   "metadata": {
    "colab": {
     "base_uri": "https://localhost:8080/"
    },
    "id": "wRAk0DkjoyOu",
    "outputId": "6931262b-64b8-4231-f0d9-cb7ae8e8428f"
   },
   "outputs": [
    {
     "data": {
      "text/plain": [
       "array([[-1.06971154,  1.27167489, -1.9906885 ,  1.60061165],\n",
       "       [-0.62205883,  1.29585508,  0.87986964,  1.71554189],\n",
       "       [ 0.51050315, -0.80909605,  1.99821705,  0.29688139],\n",
       "       [-1.72623302, -0.28945334,  0.03364243,  0.66822711]])"
      ]
     },
     "execution_count": 18,
     "metadata": {},
     "output_type": "execute_result"
    }
   ],
   "source": [
    "arr = np.random.randn(4, 4)\n",
    "arr"
   ]
  },
  {
   "cell_type": "code",
   "execution_count": null,
   "metadata": {
    "colab": {
     "base_uri": "https://localhost:8080/"
    },
    "id": "40B9_3cQKxVe",
    "outputId": "eb9d5413-330f-4233-a193-dc0454cd705e"
   },
   "outputs": [
    {
     "data": {
      "text/plain": [
       "array([[False,  True, False,  True],\n",
       "       [False,  True,  True,  True],\n",
       "       [ True, False,  True,  True],\n",
       "       [False, False,  True,  True]])"
      ]
     },
     "execution_count": 19,
     "metadata": {},
     "output_type": "execute_result"
    }
   ],
   "source": [
    "arr > 0"
   ]
  },
  {
   "cell_type": "code",
   "execution_count": null,
   "metadata": {
    "colab": {
     "base_uri": "https://localhost:8080/"
    },
    "id": "StssaeG4K1ph",
    "outputId": "690d054e-b488-4d42-ca02-7ec2eec5e9c5"
   },
   "outputs": [
    {
     "data": {
      "text/plain": [
       "array([[-2,  2, -2,  2],\n",
       "       [-2,  2,  2,  2],\n",
       "       [ 2, -2,  2,  2],\n",
       "       [-2, -2,  2,  2]])"
      ]
     },
     "execution_count": 20,
     "metadata": {},
     "output_type": "execute_result"
    }
   ],
   "source": [
    "np.where(arr > 0, 2, -2)"
   ]
  },
  {
   "cell_type": "markdown",
   "metadata": {
    "id": "VFYXIX4eKLkL"
   },
   "source": [
    "* You can combine scalars and arrays when using np.where. For example, I can replace all positive values in arr with the constant 2 like so:"
   ]
  },
  {
   "cell_type": "code",
   "execution_count": null,
   "metadata": {
    "colab": {
     "base_uri": "https://localhost:8080/"
    },
    "id": "A_eGkLuyoyOu",
    "outputId": "00711610-3d44-4648-ec07-741fc54559ba"
   },
   "outputs": [
    {
     "data": {
      "text/plain": [
       "array([[-1.06971154,  2.        , -1.9906885 ,  2.        ],\n",
       "       [-0.62205883,  2.        ,  2.        ,  2.        ],\n",
       "       [ 2.        , -0.80909605,  2.        ,  2.        ],\n",
       "       [-1.72623302, -0.28945334,  2.        ,  2.        ]])"
      ]
     },
     "execution_count": 22,
     "metadata": {},
     "output_type": "execute_result"
    }
   ],
   "source": [
    "np.where(arr > 0, 2, arr) # set only positive values to 2"
   ]
  },
  {
   "cell_type": "markdown",
   "metadata": {
    "id": "ZB0zXbXeLKF3"
   },
   "source": [
    "* The arrays passed to np.where can be more than just equal-sized arrays or scalars."
   ]
  },
  {
   "cell_type": "markdown",
   "metadata": {
    "id": "6iyitSSQoyOv"
   },
   "source": [
    "# Mathematical and Statistical Methods\n",
    "\n",
    "* A set of mathematical functions that compute statistics about an entire array or about the data along an axis are accessible as methods of the array class.\n",
    "* You can use aggregations (often called reductions) like sum, mean, and std (standard deviation) either by calling the array instance method or using the top-level NumPy function."
   ]
  },
  {
   "cell_type": "code",
   "execution_count": null,
   "metadata": {
    "colab": {
     "base_uri": "https://localhost:8080/"
    },
    "id": "rP8o0IzFoyOv",
    "outputId": "703269be-fb70-4120-bc2c-7e6d255b1cfd"
   },
   "outputs": [
    {
     "data": {
      "text/plain": [
       "array([[-0.9398638 , -1.01561368, -0.26971867,  0.86312326],\n",
       "       [ 0.12059833,  1.02891904,  1.10927592,  0.09933233],\n",
       "       [-1.65504487,  0.58845785, -0.94684019,  0.050397  ],\n",
       "       [ 1.78295185,  1.52544215, -1.61855098, -0.72558678],\n",
       "       [-0.15781864,  0.85228881,  0.98075464, -1.20072066]])"
      ]
     },
     "execution_count": 23,
     "metadata": {},
     "output_type": "execute_result"
    }
   ],
   "source": [
    "arr = np.random.randn(5, 4)\n",
    "arr"
   ]
  },
  {
   "cell_type": "code",
   "execution_count": null,
   "metadata": {
    "colab": {
     "base_uri": "https://localhost:8080/"
    },
    "id": "_7jbZwHfLgto",
    "outputId": "878e8f2c-3919-4cc3-dd4d-03982e7e15a3"
   },
   "outputs": [
    {
     "data": {
      "text/plain": [
       "0.02358914492735109"
      ]
     },
     "execution_count": 24,
     "metadata": {},
     "output_type": "execute_result"
    }
   ],
   "source": [
    "arr.mean()"
   ]
  },
  {
   "cell_type": "code",
   "execution_count": null,
   "metadata": {
    "colab": {
     "base_uri": "https://localhost:8080/"
    },
    "id": "WAp-9qRLLjNq",
    "outputId": "e6b16d47-0d18-40b7-a33e-d4bbfe04cd49"
   },
   "outputs": [
    {
     "data": {
      "text/plain": [
       "0.02358914492735109"
      ]
     },
     "execution_count": 25,
     "metadata": {},
     "output_type": "execute_result"
    }
   ],
   "source": [
    "np.mean(arr)"
   ]
  },
  {
   "cell_type": "code",
   "execution_count": null,
   "metadata": {
    "colab": {
     "base_uri": "https://localhost:8080/"
    },
    "id": "Xi7iJSa2Lm9c",
    "outputId": "b3b8d273-6383-48de-b5f5-99477ad7e76c"
   },
   "outputs": [
    {
     "data": {
      "text/plain": [
       "0.4717828985470218"
      ]
     },
     "execution_count": 26,
     "metadata": {},
     "output_type": "execute_result"
    }
   ],
   "source": [
    "arr.sum()"
   ]
  },
  {
   "cell_type": "markdown",
   "metadata": {
    "id": "E9p0QueiLsS_"
   },
   "source": [
    "* Functions like mean and sum take an optional axis argument that computes the statistic over the given axis, resulting in an array with one fewer dimension:"
   ]
  },
  {
   "cell_type": "code",
   "execution_count": null,
   "metadata": {
    "colab": {
     "base_uri": "https://localhost:8080/"
    },
    "id": "zdMOJr8moyOv",
    "outputId": "c2ccd30e-3c5b-495c-8cf9-eecf55afeb34"
   },
   "outputs": [
    {
     "data": {
      "text/plain": [
       "array([-0.34051822,  0.58953141, -0.49075755,  0.24106406,  0.11862604])"
      ]
     },
     "execution_count": 27,
     "metadata": {},
     "output_type": "execute_result"
    }
   ],
   "source": [
    "arr.mean(axis=1)"
   ]
  },
  {
   "cell_type": "code",
   "execution_count": null,
   "metadata": {
    "colab": {
     "base_uri": "https://localhost:8080/"
    },
    "id": "3HE9rQy5Lzd1",
    "outputId": "e17efb15-2561-4f5a-f7de-47173fdc7f94"
   },
   "outputs": [
    {
     "data": {
      "text/plain": [
       "array([-0.84917714,  2.97949417, -0.74507928, -0.91345485])"
      ]
     },
     "execution_count": 28,
     "metadata": {},
     "output_type": "execute_result"
    }
   ],
   "source": [
    "arr.sum(axis=0)"
   ]
  },
  {
   "cell_type": "markdown",
   "metadata": {
    "id": "zU1kbHFIMN7L"
   },
   "source": [
    "* Here, arr.mean(1) means “compute mean across the columns” where arr.sum(0)\n",
    "means “compute sum down the rows\".\n",
    "\n",
    "\n",
    "---\n",
    "\n"
   ]
  },
  {
   "cell_type": "markdown",
   "metadata": {
    "id": "DHlbaLixM1Cj"
   },
   "source": [
    "* Other methods like **cumsum** and **cumprod** do not aggregate, instead producing an array of the intermediate results:"
   ]
  },
  {
   "cell_type": "code",
   "execution_count": null,
   "metadata": {
    "colab": {
     "base_uri": "https://localhost:8080/"
    },
    "id": "sn-yJiZMoyOv",
    "outputId": "a11f6070-f8eb-4add-9341-214cad6de0a3"
   },
   "outputs": [
    {
     "data": {
      "text/plain": [
       "array([ 0,  1,  3,  6, 10, 15, 21, 28])"
      ]
     },
     "execution_count": 30,
     "metadata": {},
     "output_type": "execute_result"
    }
   ],
   "source": [
    "arr = np.array([0, 1, 2, 3, 4, 5, 6, 7])\n",
    "arr.cumsum()"
   ]
  },
  {
   "cell_type": "markdown",
   "metadata": {
    "id": "OLLneLjYNDpm"
   },
   "source": [
    "* In **multidimensional arrays**, accumulation functions like **cumsum return an array of the same size**, but with the partial aggregates computed along the indicated axis according to each lower dimensional slice:"
   ]
  },
  {
   "cell_type": "code",
   "execution_count": null,
   "metadata": {
    "colab": {
     "base_uri": "https://localhost:8080/"
    },
    "id": "CuoOZUIgoyOw",
    "outputId": "efd6329c-fa9c-42c2-d30a-1fbce817d289"
   },
   "outputs": [
    {
     "data": {
      "text/plain": [
       "array([[0, 1, 2],\n",
       "       [3, 4, 5],\n",
       "       [6, 7, 8]])"
      ]
     },
     "execution_count": 31,
     "metadata": {},
     "output_type": "execute_result"
    }
   ],
   "source": [
    "arr = np.array([[0, 1, 2], [3, 4, 5], [6, 7, 8]])\n",
    "arr"
   ]
  },
  {
   "cell_type": "code",
   "execution_count": null,
   "metadata": {
    "colab": {
     "base_uri": "https://localhost:8080/"
    },
    "id": "F0_OwYL8NVIz",
    "outputId": "7972bf97-afa1-4497-b495-9aa9bd9e4e9f"
   },
   "outputs": [
    {
     "data": {
      "text/plain": [
       "array([[ 0,  1,  2],\n",
       "       [ 3,  5,  7],\n",
       "       [ 9, 12, 15]])"
      ]
     },
     "execution_count": 32,
     "metadata": {},
     "output_type": "execute_result"
    }
   ],
   "source": [
    "arr.cumsum(axis=0)"
   ]
  },
  {
   "cell_type": "code",
   "execution_count": null,
   "metadata": {
    "colab": {
     "base_uri": "https://localhost:8080/"
    },
    "id": "oL62Ht7eNcPh",
    "outputId": "c302a543-6d92-4077-b9db-ff6d8866094a"
   },
   "outputs": [
    {
     "data": {
      "text/plain": [
       "array([[  0,   0,   0],\n",
       "       [  3,  12,  60],\n",
       "       [  6,  42, 336]])"
      ]
     },
     "execution_count": 33,
     "metadata": {},
     "output_type": "execute_result"
    }
   ],
   "source": [
    "arr.cumprod(axis=1)"
   ]
  },
  {
   "cell_type": "markdown",
   "metadata": {
    "id": "d4yV4DRINqJ-"
   },
   "source": [
    "* Table below shows a full list of Mathematical and Statistical Methods\n",
    "\n",
    "<p align=\"center\">\n",
    "    <img src=\"http://raghudathesh.weebly.com/uploads/4/8/9/6/48968251/6_orig.png\">\n",
    "</p>\n",
    "\n"
   ]
  },
  {
   "cell_type": "markdown",
   "metadata": {
    "id": "TPdoHLrmoyOw"
   },
   "source": [
    "# Methods for Boolean Arrays\n",
    "\n",
    "* Boolean values are forced to 1 (True) and 0 (False) in the preceding methods.\n",
    "Thus, sum is often used as a means of counting True values in a boolean array:"
   ]
  },
  {
   "cell_type": "code",
   "execution_count": null,
   "metadata": {
    "colab": {
     "base_uri": "https://localhost:8080/"
    },
    "id": "WFAMH6G7oyOw",
    "outputId": "3c8506ee-4c4e-4183-b79a-c2e5e36b89ea"
   },
   "outputs": [
    {
     "data": {
      "text/plain": [
       "52"
      ]
     },
     "execution_count": 34,
     "metadata": {},
     "output_type": "execute_result"
    }
   ],
   "source": [
    "arr = np.random.randn(100)\n",
    "(arr > 0).sum() # Number of positive values"
   ]
  },
  {
   "cell_type": "markdown",
   "metadata": {
    "id": "oJlLvAnwQUt6"
   },
   "source": [
    "* There are two additional methods, **any** and **all**, useful especially for boolean arrays.\n",
    "* any tests whether one or more values in an array is True, while all checks if every value is True:"
   ]
  },
  {
   "cell_type": "code",
   "execution_count": null,
   "metadata": {
    "id": "jCV1D0JQoyOw"
   },
   "outputs": [],
   "source": [
    "bools = np.array([False, False, True, False])"
   ]
  },
  {
   "cell_type": "code",
   "execution_count": null,
   "metadata": {
    "colab": {
     "base_uri": "https://localhost:8080/"
    },
    "id": "lPY5eeIGQob4",
    "outputId": "005da7bf-f828-4553-9328-fb40d6c853d6"
   },
   "outputs": [
    {
     "data": {
      "text/plain": [
       "True"
      ]
     },
     "execution_count": 36,
     "metadata": {},
     "output_type": "execute_result"
    }
   ],
   "source": [
    "bools.any()"
   ]
  },
  {
   "cell_type": "code",
   "execution_count": null,
   "metadata": {
    "colab": {
     "base_uri": "https://localhost:8080/"
    },
    "id": "Ds6b-_BPQs2R",
    "outputId": "2d4035fb-2a65-42c2-f712-aabfecbe4639"
   },
   "outputs": [
    {
     "data": {
      "text/plain": [
       "False"
      ]
     },
     "execution_count": 37,
     "metadata": {},
     "output_type": "execute_result"
    }
   ],
   "source": [
    "bools.all()"
   ]
  },
  {
   "cell_type": "markdown",
   "metadata": {
    "id": "Rlgdz3_voyOx"
   },
   "source": [
    "# Sorting\n",
    "* Like Python’s built-in list type, NumPy arrays can be sorted in-place with the sort method:"
   ]
  },
  {
   "cell_type": "code",
   "execution_count": null,
   "metadata": {
    "colab": {
     "base_uri": "https://localhost:8080/"
    },
    "id": "qntoCs-NoyOx",
    "outputId": "df737f24-e5df-45ea-dd2c-72e7ec423e13"
   },
   "outputs": [
    {
     "data": {
      "text/plain": [
       "array([-1.04199843, -1.55289873, -0.64273652, -1.31076374,  1.28852551,\n",
       "        1.46448558])"
      ]
     },
     "execution_count": 38,
     "metadata": {},
     "output_type": "execute_result"
    }
   ],
   "source": [
    "arr = np.random.randn(6)\n",
    "arr"
   ]
  },
  {
   "cell_type": "code",
   "execution_count": null,
   "metadata": {
    "colab": {
     "base_uri": "https://localhost:8080/"
    },
    "id": "d1UHOIf1Q4Y1",
    "outputId": "4a0e0dea-a501-4ccb-c092-ed764b1687f5"
   },
   "outputs": [
    {
     "data": {
      "text/plain": [
       "array([-1.55289873, -1.31076374, -1.04199843, -0.64273652,  1.28852551,\n",
       "        1.46448558])"
      ]
     },
     "execution_count": 39,
     "metadata": {},
     "output_type": "execute_result"
    }
   ],
   "source": [
    "arr.sort()\n",
    "arr"
   ]
  },
  {
   "cell_type": "markdown",
   "metadata": {
    "id": "q4mbB9m2RBA_"
   },
   "source": [
    "* You can sort each one-dimensional section of values in a multidimensional array inplace along an axis by passing the axis number to sort:"
   ]
  },
  {
   "cell_type": "code",
   "execution_count": null,
   "metadata": {
    "colab": {
     "base_uri": "https://localhost:8080/"
    },
    "id": "n_HV87ivoyOx",
    "outputId": "ed6e4d8d-0888-4794-8c97-6a32c392f084"
   },
   "outputs": [
    {
     "data": {
      "text/plain": [
       "array([[-0.6519646 , -0.36472728, -0.14988827],\n",
       "       [ 0.50328909, -2.63067204, -1.85236026],\n",
       "       [ 0.17278006,  0.19578855, -0.15483879],\n",
       "       [-0.52880046, -0.8439432 , -0.55834065],\n",
       "       [-0.58068217,  0.51008738,  2.44751151]])"
      ]
     },
     "execution_count": 40,
     "metadata": {},
     "output_type": "execute_result"
    }
   ],
   "source": [
    "arr = np.random.randn(5, 3)\n",
    "arr"
   ]
  },
  {
   "cell_type": "code",
   "execution_count": null,
   "metadata": {
    "colab": {
     "base_uri": "https://localhost:8080/"
    },
    "id": "2vfsfGhsRFW2",
    "outputId": "4fe48f36-6dc8-49d6-fffb-53b377d7833a"
   },
   "outputs": [
    {
     "data": {
      "text/plain": [
       "array([[-0.6519646 , -0.36472728, -0.14988827],\n",
       "       [-2.63067204, -1.85236026,  0.50328909],\n",
       "       [-0.15483879,  0.17278006,  0.19578855],\n",
       "       [-0.8439432 , -0.55834065, -0.52880046],\n",
       "       [-0.58068217,  0.51008738,  2.44751151]])"
      ]
     },
     "execution_count": 41,
     "metadata": {},
     "output_type": "execute_result"
    }
   ],
   "source": [
    "arr.sort(1)\n",
    "arr"
   ]
  },
  {
   "cell_type": "code",
   "execution_count": null,
   "metadata": {
    "colab": {
     "base_uri": "https://localhost:8080/"
    },
    "id": "-Tt38DyzRQM6",
    "outputId": "62d6464b-aed6-4dfd-fd03-37d28bda8ac5"
   },
   "outputs": [
    {
     "data": {
      "text/plain": [
       "array([[-2.63067204, -1.85236026, -0.52880046],\n",
       "       [-0.8439432 , -0.55834065, -0.14988827],\n",
       "       [-0.6519646 , -0.36472728,  0.19578855],\n",
       "       [-0.58068217,  0.17278006,  0.50328909],\n",
       "       [-0.15483879,  0.51008738,  2.44751151]])"
      ]
     },
     "execution_count": 42,
     "metadata": {},
     "output_type": "execute_result"
    }
   ],
   "source": [
    "arr.sort(0)\n",
    "arr"
   ]
  },
  {
   "cell_type": "markdown",
   "metadata": {
    "id": "sM89f62pd11U"
   },
   "source": [
    "* The top-level method np.sort returns a sorted copy of an array instead of modifying the array in-place.\n",
    "A quick-and-dirty way to compute the quantiles of an array is to sort it and select the value at a particular rank:"
   ]
  },
  {
   "cell_type": "markdown",
   "metadata": {
    "id": "FUo7IMJ8oyOy"
   },
   "source": [
    "# Unique and Other Set Logic\n",
    "\n",
    "* NumPy has some basic set operations for one-dimensional ndarrays.\n",
    "* A commonly used one is np.unique, which returns the sorted unique values in an array:"
   ]
  },
  {
   "cell_type": "code",
   "execution_count": null,
   "metadata": {
    "colab": {
     "base_uri": "https://localhost:8080/"
    },
    "id": "3nSQL4Y6oyOy",
    "outputId": "3123dc36-7093-4a9f-e2a0-1ecf6a3080df"
   },
   "outputs": [
    {
     "data": {
      "text/plain": [
       "array(['Mohit', 'Sunil', 'Varshini'], dtype='<U8')"
      ]
     },
     "execution_count": 51,
     "metadata": {},
     "output_type": "execute_result"
    }
   ],
   "source": [
    "names = np.array(['Mohit', 'Varshini', 'Sunil', 'Mohit', 'Varshini', 'Sunil', 'Sunil'])\n",
    "np.unique(names)"
   ]
  },
  {
   "cell_type": "code",
   "execution_count": null,
   "metadata": {
    "colab": {
     "base_uri": "https://localhost:8080/"
    },
    "id": "N-t1ly8cfCu7",
    "outputId": "15b8af28-0b53-4136-ffc8-cc7c1cdc3b13"
   },
   "outputs": [
    {
     "data": {
      "text/plain": [
       "array([1, 2, 3, 4])"
      ]
     },
     "execution_count": 52,
     "metadata": {},
     "output_type": "execute_result"
    }
   ],
   "source": [
    "ints = np.array([3, 3, 3, 2, 2, 1, 1, 4, 4])\n",
    "np.unique(ints)"
   ]
  },
  {
   "cell_type": "markdown",
   "metadata": {
    "id": "yK_of0IifID3"
   },
   "source": [
    "* Contrast np.unique with the pure Python alternative:"
   ]
  },
  {
   "cell_type": "code",
   "execution_count": null,
   "metadata": {
    "colab": {
     "base_uri": "https://localhost:8080/"
    },
    "id": "6aO7iyftoyOz",
    "outputId": "ec124e9a-4a58-4ba7-fcf1-64091c90b8dd"
   },
   "outputs": [
    {
     "data": {
      "text/plain": [
       "['Mohit', 'Sunil', 'Varshini']"
      ]
     },
     "execution_count": 53,
     "metadata": {},
     "output_type": "execute_result"
    }
   ],
   "source": [
    "sorted(set(names))"
   ]
  },
  {
   "cell_type": "markdown",
   "metadata": {
    "id": "XZgH9kyCfPu3"
   },
   "source": [
    "* Another function, np.in1d, tests membership of the values in one array in another, returning a boolean array:"
   ]
  },
  {
   "cell_type": "code",
   "execution_count": null,
   "metadata": {
    "colab": {
     "base_uri": "https://localhost:8080/"
    },
    "id": "yn3bgnvroyOz",
    "outputId": "10fd4046-28f9-48f6-d600-0def8320b910"
   },
   "outputs": [
    {
     "data": {
      "text/plain": [
       "array([ True, False, False,  True,  True, False,  True])"
      ]
     },
     "execution_count": 54,
     "metadata": {},
     "output_type": "execute_result"
    }
   ],
   "source": [
    "values = np.array([6, 0, 0, 3, 2, 5, 6])\n",
    "np.in1d(values, [2, 3, 6])"
   ]
  },
  {
   "cell_type": "markdown",
   "metadata": {
    "id": "sJOsZq6pfbye"
   },
   "source": [
    "* Table below shows a listing of set functions in NumPy\n",
    "\n",
    "\n",
    "<p align=\"center\">\n",
    "    <img src=\"http://raghudathesh.weebly.com/uploads/4/8/9/6/48968251/7_orig.png\">\n",
    "</p>\n"
   ]
  },
  {
   "cell_type": "markdown",
   "metadata": {
    "id": "9fAfWVZLoyO0"
   },
   "source": [
    "# File Input and Output with Arrays\n",
    "\n",
    "* NumPy is able to save and load data to and from disk either in text or binary format.\n",
    "* In this section we shall discuss NumPy’s built-in binary format, since most users will prefer pandas and other tools for loading text or tabular data.\n",
    "\n",
    "---\n",
    "\n",
    "* **np.save** and **np.load** are the two workhorse functions for efficiently saving and loading array data on disk.\n",
    "* Arrays are saved by default in an uncompressed raw binary format with file extension .npy:"
   ]
  },
  {
   "cell_type": "code",
   "execution_count": 5,
   "metadata": {
    "colab": {
     "base_uri": "https://localhost:8080/"
    },
    "id": "u2C2RDU7oyO0",
    "outputId": "c8376098-dd59-416e-c1e9-2ed0134d43d4"
   },
   "outputs": [
    {
     "name": "stdout",
     "output_type": "stream",
     "text": [
      "[0 1 2 3 4 5 6 7 8 9]\n"
     ]
    }
   ],
   "source": [
    "arr = np.arange(10)\n",
    "print(arr)\n",
    "np.save('some_array', arr)"
   ]
  },
  {
   "cell_type": "markdown",
   "metadata": {
    "id": "7NQW1QjzgpRH"
   },
   "source": [
    "* If the file path does not already end in .npy, the extension will be appended.\n",
    "---\n",
    "* The array on disk can then be loaded with np.load:"
   ]
  },
  {
   "cell_type": "code",
   "execution_count": 6,
   "metadata": {
    "colab": {
     "base_uri": "https://localhost:8080/"
    },
    "id": "b9S0SNl9oyO0",
    "outputId": "16de4dd5-81de-440f-dc88-ac3b185db53d"
   },
   "outputs": [
    {
     "data": {
      "text/plain": [
       "array([0, 1, 2, 3, 4, 5, 6, 7, 8, 9])"
      ]
     },
     "execution_count": 6,
     "metadata": {},
     "output_type": "execute_result"
    }
   ],
   "source": [
    "np.load('some_array.npy')"
   ]
  },
  {
   "cell_type": "markdown",
   "metadata": {
    "id": "XmGa1vKphowe"
   },
   "source": [
    "* You save multiple arrays in an uncompressed archive using np.savez and passing the arrays as keyword arguments:"
   ]
  },
  {
   "cell_type": "code",
   "execution_count": null,
   "metadata": {
    "id": "saHgfswloyO0"
   },
   "outputs": [],
   "source": [
    "np.savez('array_archive.npz', a=arr, b=arr)"
   ]
  },
  {
   "cell_type": "markdown",
   "metadata": {
    "id": "UXTTqxAJh3yE"
   },
   "source": [
    "* When loading an .npz file, you get back a dict-like object that loads the individual arrays lazily:"
   ]
  },
  {
   "cell_type": "code",
   "execution_count": null,
   "metadata": {
    "colab": {
     "base_uri": "https://localhost:8080/"
    },
    "id": "MR_FzX2royO0",
    "outputId": "8cac1bc3-ba53-4004-c455-5ae80dff8eaf"
   },
   "outputs": [
    {
     "data": {
      "text/plain": [
       "array([0, 1, 2, 3, 4, 5, 6, 7, 8, 9])"
      ]
     },
     "execution_count": 58,
     "metadata": {},
     "output_type": "execute_result"
    }
   ],
   "source": [
    "arch = np.load('array_archive.npz')\n",
    "arch['b']"
   ]
  },
  {
   "cell_type": "markdown",
   "metadata": {
    "id": "c_S_Z8vSiCJU"
   },
   "source": [
    "* If your data compresses well, you may wish to use numpy.savez_compressed instead:"
   ]
  },
  {
   "cell_type": "code",
   "execution_count": null,
   "metadata": {
    "id": "hfvqtCTjoyO1"
   },
   "outputs": [],
   "source": [
    "np.savez_compressed('arrays_compressed.npz', a=arr, b=arr)"
   ]
  },
  {
   "cell_type": "markdown",
   "metadata": {
    "id": "RWLbq_SAh2gJ"
   },
   "source": [
    "* If you want to removE the saved file from the disk use the command below:"
   ]
  },
  {
   "cell_type": "code",
   "execution_count": 7,
   "metadata": {
    "colab": {
     "base_uri": "https://localhost:8080/"
    },
    "id": "Gbx6Xy0loyO1",
    "outputId": "02712605-7d98-4682-db1c-6d348dbd43a9"
   },
   "outputs": [
    {
     "name": "stdout",
     "output_type": "stream",
     "text": [
      "rm: cannot remove 'array_archive.npz': No such file or directory\n",
      "rm: cannot remove 'arrays_compressed.npz': No such file or directory\n"
     ]
    }
   ],
   "source": [
    "!rm some_array.npy\n",
    "!rm array_archive.npz\n",
    "!rm arrays_compressed.npz"
   ]
  },
  {
   "cell_type": "markdown",
   "metadata": {
    "id": "iKlFJ3_9oyO1"
   },
   "source": [
    "# Linear Algebra\n",
    "* Linear algebra, like matrix multiplication, decompositions, determinants, and other square matrix math, is an important part of any array library.\n",
    "* Unlike some languages like MATLAB, multiplying two two-dimensional arrays with * is an element-wise product instead of a matrix dot product.\n",
    "* Thus, there is a function **dot**, both an array method and a function in the numpy namespace, for matrix multiplication:"
   ]
  },
  {
   "cell_type": "code",
   "execution_count": null,
   "metadata": {
    "colab": {
     "base_uri": "https://localhost:8080/"
    },
    "id": "eNSk740AoyO1",
    "outputId": "c2238cb7-afde-4128-cacb-04b40dde22b6"
   },
   "outputs": [
    {
     "data": {
      "text/plain": [
       "array([[1., 2., 3.],\n",
       "       [4., 5., 6.]])"
      ]
     },
     "execution_count": 61,
     "metadata": {},
     "output_type": "execute_result"
    }
   ],
   "source": [
    "x = np.array([[1., 2., 3.], [4., 5., 6.]])\n",
    "y = np.array([[6., 23.], [-1, 7], [8, 9]])\n",
    "x"
   ]
  },
  {
   "cell_type": "code",
   "execution_count": null,
   "metadata": {
    "colab": {
     "base_uri": "https://localhost:8080/"
    },
    "id": "SX2CgWEwjg_d",
    "outputId": "2ce68c8f-ba88-4f8e-8505-ea18585add14"
   },
   "outputs": [
    {
     "data": {
      "text/plain": [
       "array([[ 6., 23.],\n",
       "       [-1.,  7.],\n",
       "       [ 8.,  9.]])"
      ]
     },
     "execution_count": 62,
     "metadata": {},
     "output_type": "execute_result"
    }
   ],
   "source": [
    "y"
   ]
  },
  {
   "cell_type": "code",
   "execution_count": null,
   "metadata": {
    "colab": {
     "base_uri": "https://localhost:8080/"
    },
    "id": "UZBGVdFTjjQE",
    "outputId": "b85ab0d1-aedc-43e3-c827-92039edd0d5c"
   },
   "outputs": [
    {
     "data": {
      "text/plain": [
       "array([[ 28.,  64.],\n",
       "       [ 67., 181.]])"
      ]
     },
     "execution_count": 63,
     "metadata": {},
     "output_type": "execute_result"
    }
   ],
   "source": [
    "x.dot(y)"
   ]
  },
  {
   "cell_type": "markdown",
   "metadata": {
    "id": "5mypOUdLjmiz"
   },
   "source": [
    "* x.dot(y) is equivalent to np.dot(x, y):"
   ]
  },
  {
   "cell_type": "code",
   "execution_count": null,
   "metadata": {
    "colab": {
     "base_uri": "https://localhost:8080/"
    },
    "id": "BE69KhMtoyO2",
    "outputId": "46f3e1e5-a894-4f98-beae-688da823a27d"
   },
   "outputs": [
    {
     "data": {
      "text/plain": [
       "array([[ 28.,  64.],\n",
       "       [ 67., 181.]])"
      ]
     },
     "execution_count": 64,
     "metadata": {},
     "output_type": "execute_result"
    }
   ],
   "source": [
    "np.dot(x, y)"
   ]
  },
  {
   "cell_type": "markdown",
   "metadata": {
    "id": "EaKc7gBdjwKu"
   },
   "source": [
    "* A matrix product between a two-dimensional array and a suitably sized one dimensional array results in a one-dimensional array:"
   ]
  },
  {
   "cell_type": "code",
   "execution_count": null,
   "metadata": {
    "colab": {
     "base_uri": "https://localhost:8080/"
    },
    "id": "6yy9lDmEoyO2",
    "outputId": "1021d9e0-aead-4b9b-e26b-f8ea067301aa"
   },
   "outputs": [
    {
     "data": {
      "text/plain": [
       "array([ 6., 15.])"
      ]
     },
     "execution_count": 65,
     "metadata": {},
     "output_type": "execute_result"
    }
   ],
   "source": [
    "np.dot(x, np.ones(3))"
   ]
  },
  {
   "cell_type": "markdown",
   "metadata": {
    "id": "IhNZhizSj_HV"
   },
   "source": [
    "* The @ symbol (as of Python 3.5) also works as an infix operator that performs matrix multiplication:"
   ]
  },
  {
   "cell_type": "code",
   "execution_count": null,
   "metadata": {
    "colab": {
     "base_uri": "https://localhost:8080/"
    },
    "id": "w7bwFwypoyO2",
    "outputId": "ee6c426f-61ff-4894-bd91-d5c1a9653def"
   },
   "outputs": [
    {
     "data": {
      "text/plain": [
       "array([ 6., 15.])"
      ]
     },
     "execution_count": 66,
     "metadata": {},
     "output_type": "execute_result"
    }
   ],
   "source": [
    "x @ np.ones(3)"
   ]
  },
  {
   "cell_type": "markdown",
   "metadata": {
    "id": "MwxV-9SmkJXo"
   },
   "source": [
    "* numpy.linalg has a standard set of matrix decompositions and things like inverse and determinant.\n",
    "* These are implemented under the hood via the same industrystandard linear algebra libraries used in other languages like MATLAB and R, such as BLAS, LAPACK, or possibly (depending on your NumPy build) the proprietary Intel MKL (Math Kernel Library):"
   ]
  },
  {
   "cell_type": "code",
   "execution_count": null,
   "metadata": {
    "colab": {
     "base_uri": "https://localhost:8080/"
    },
    "id": "BxWLDr7CoyO2",
    "outputId": "226372f8-aca2-4a83-8249-47ef7095856d"
   },
   "outputs": [
    {
     "data": {
      "text/plain": [
       "array([[  9.54501177,   1.33758295,  -4.77735282,  18.37882253,\n",
       "         -6.43716868],\n",
       "       [  1.33758295,   0.32965836,  -0.63885362,   2.74334242,\n",
       "         -0.8726838 ],\n",
       "       [ -4.77735282,  -0.63885362,   2.63929448,  -9.22218777,\n",
       "          3.3341088 ],\n",
       "       [ 18.37882253,   2.74334242,  -9.22218777,  36.06731155,\n",
       "        -12.28872393],\n",
       "       [ -6.43716868,  -0.8726838 ,   3.3341088 , -12.28872393,\n",
       "          4.60431041]])"
      ]
     },
     "execution_count": 67,
     "metadata": {},
     "output_type": "execute_result"
    }
   ],
   "source": [
    "from numpy.linalg import inv, qr\n",
    "X = np.random.randn(5, 5)\n",
    "mat = X.T.dot(X)\n",
    "inv(mat)"
   ]
  },
  {
   "cell_type": "code",
   "execution_count": null,
   "metadata": {
    "colab": {
     "base_uri": "https://localhost:8080/"
    },
    "id": "0UNDWj6fkS4R",
    "outputId": "f61b8293-bc08-4eb5-e279-cf251d0a45b3"
   },
   "outputs": [
    {
     "data": {
      "text/plain": [
       "array([[ 1.00000000e+00,  5.31325539e-15,  8.00619063e-16,\n",
       "         2.64055142e-14,  8.50661463e-15],\n",
       "       [ 1.22774536e-15,  1.00000000e+00,  3.14124512e-15,\n",
       "        -3.80130208e-15,  7.04990670e-15],\n",
       "       [ 5.95333613e-16, -7.70582404e-16,  1.00000000e+00,\n",
       "        -1.17773992e-14,  1.51637982e-15],\n",
       "       [-1.20621765e-14, -1.79261777e-15,  2.87494458e-15,\n",
       "         1.00000000e+00,  2.77581011e-15],\n",
       "       [ 1.39917847e-14,  1.84183876e-15, -9.43591572e-16,\n",
       "         2.17747957e-14,  1.00000000e+00]])"
      ]
     },
     "execution_count": 68,
     "metadata": {},
     "output_type": "execute_result"
    }
   ],
   "source": [
    "mat.dot(inv(mat))"
   ]
  },
  {
   "cell_type": "code",
   "execution_count": null,
   "metadata": {
    "colab": {
     "base_uri": "https://localhost:8080/"
    },
    "id": "vbPTdUm8kYRi",
    "outputId": "55f77aaa-b343-4bc1-87b0-80c29841ae07"
   },
   "outputs": [
    {
     "data": {
      "text/plain": [
       "array([[-12.70939427,  -7.11541175,   2.71127922,   5.6598904 ,\n",
       "         -6.04746394],\n",
       "       [  0.        ,  -9.26414745,   2.07463553,   1.53359227,\n",
       "          0.872947  ],\n",
       "       [  0.        ,   0.        ,  -5.56464836,  -0.25593205,\n",
       "          3.42566326],\n",
       "       [  0.        ,   0.        ,   0.        ,  -0.7879716 ,\n",
       "         -2.27541253],\n",
       "       [  0.        ,   0.        ,   0.        ,   0.        ,\n",
       "          0.06658867]])"
      ]
     },
     "execution_count": 70,
     "metadata": {},
     "output_type": "execute_result"
    }
   ],
   "source": [
    "q, r = qr(mat)\n",
    "r"
   ]
  },
  {
   "cell_type": "code",
   "execution_count": null,
   "metadata": {
    "colab": {
     "base_uri": "https://localhost:8080/"
    },
    "id": "SzRD8qL6kcaD",
    "outputId": "d2060af6-ffb8-472c-8664-8f3ea70c15f5"
   },
   "outputs": [
    {
     "data": {
      "text/plain": [
       "array([[-0.83084203,  0.26348153, -0.17101349,  0.16522409, -0.42864249],\n",
       "       [-0.27309338, -0.93403007, -0.13663434, -0.17596027, -0.05811085],\n",
       "       [ 0.05935662,  0.16143262, -0.90495826, -0.3196509 ,  0.22201387],\n",
       "       [ 0.34500666,  0.03773846, -0.00957913, -0.45810076, -0.81828977],\n",
       "       [-0.33551263,  0.17515886,  0.36475229, -0.79354016,  0.3065949 ]])"
      ]
     },
     "execution_count": 71,
     "metadata": {},
     "output_type": "execute_result"
    }
   ],
   "source": [
    "q"
   ]
  },
  {
   "cell_type": "markdown",
   "metadata": {
    "id": "Zn13dJpnkf4b"
   },
   "source": [
    "* The expression X.T.dot(X) computes the dot product of X with its transpose X.T.\n",
    "---\n",
    "* Table below shows a list of some of the most commonly used linear algebra functions.\n",
    "\n",
    "<p align=\"center\">\n",
    "    <img src=\"http://raghudathesh.weebly.com/uploads/4/8/9/6/48968251/8_orig.png\">\n",
    "</p>"
   ]
  },
  {
   "cell_type": "markdown",
   "metadata": {
    "id": "bK-2uzrcoyO2"
   },
   "source": [
    "# Pseudorandom Number Generation\n",
    "* The numpy.random module supplements the built-in Python random with functions for efficiently generating whole arrays of sample values from many kinds of probability distributions.\n",
    "* For example, you can get a 4 × 4 array of samples from the standard\n",
    "normal distribution using normal:"
   ]
  },
  {
   "cell_type": "code",
   "execution_count": null,
   "metadata": {
    "colab": {
     "base_uri": "https://localhost:8080/"
    },
    "id": "hlreOXMNoyO3",
    "outputId": "ee44555a-52b7-4e9f-8689-81783058578d"
   },
   "outputs": [
    {
     "data": {
      "text/plain": [
       "array([[-1.23474622, -0.2260722 ,  0.81139174,  0.17149235],\n",
       "       [ 0.3373211 , -0.2020664 , -1.11775184,  0.73648876],\n",
       "       [-1.30909081, -1.14508596,  0.99653487,  1.22528468],\n",
       "       [ 0.50770019, -0.70580009, -0.66642288,  0.60117039]])"
      ]
     },
     "execution_count": 72,
     "metadata": {},
     "output_type": "execute_result"
    }
   ],
   "source": [
    "samples = np.random.normal(size=(4, 4))\n",
    "samples"
   ]
  },
  {
   "cell_type": "markdown",
   "metadata": {
    "id": "4m3O1w2klecL"
   },
   "source": [
    "* Python’s built-in random module, by contrast, only samples one value at a time. As you can see from this benchmark, numpy.random is well over an order of magnitude faster for generating very large samples:"
   ]
  },
  {
   "cell_type": "code",
   "execution_count": null,
   "metadata": {
    "colab": {
     "base_uri": "https://localhost:8080/"
    },
    "id": "BiBlPFPPoyO3",
    "outputId": "6b69fc7d-446d-426d-c267-e30b6b0d9b18"
   },
   "outputs": [
    {
     "name": "stdout",
     "output_type": "stream",
     "text": [
      "992 ms ± 349 ms per loop (mean ± std. dev. of 7 runs, 1 loop each)\n"
     ]
    }
   ],
   "source": [
    "from random import normalvariate\n",
    "N = 1000000\n",
    "%timeit samples = [normalvariate(0, 1) for _ in range(N)]"
   ]
  },
  {
   "cell_type": "code",
   "execution_count": null,
   "metadata": {
    "colab": {
     "base_uri": "https://localhost:8080/"
    },
    "id": "sWYZP5uIlpNv",
    "outputId": "90316f88-9897-4992-a902-c3c5365b1636"
   },
   "outputs": [
    {
     "name": "stdout",
     "output_type": "stream",
     "text": [
      "32.9 ms ± 726 µs per loop (mean ± std. dev. of 7 runs, 10 loops each)\n"
     ]
    }
   ],
   "source": [
    "%timeit np.random.normal(size=N)"
   ]
  },
  {
   "cell_type": "markdown",
   "metadata": {
    "id": "Vg7soCsmlx9o"
   },
   "source": [
    "* We say that these are **pseudorandom numbers because they are generated by an algorithm with deterministic behavior based on the seed of the random number generator**.\n",
    "* You can change NumPy’s random number generation seed using\n",
    "np.random.seed:"
   ]
  },
  {
   "cell_type": "code",
   "execution_count": null,
   "metadata": {
    "id": "tnJSPxj6oyO3"
   },
   "outputs": [],
   "source": [
    "np.random.seed(1234)"
   ]
  },
  {
   "cell_type": "markdown",
   "metadata": {
    "id": "wEf0qhcemem5"
   },
   "source": [
    "* The data generation functions in numpy.random use a global random seed.\n",
    "* To avoid global state, you can use numpy.random.RandomState to create a random number generator isolated from others:"
   ]
  },
  {
   "cell_type": "code",
   "execution_count": null,
   "metadata": {
    "colab": {
     "base_uri": "https://localhost:8080/"
    },
    "id": "7VU4lIUdoyO3",
    "outputId": "0a1a35a7-cfc8-4cd0-c29b-9df34c53fc6e"
   },
   "outputs": [
    {
     "data": {
      "text/plain": [
       "array([ 0.47143516, -1.19097569,  1.43270697, -0.3126519 , -0.72058873,\n",
       "        0.88716294,  0.85958841, -0.6365235 ,  0.01569637, -2.24268495])"
      ]
     },
     "execution_count": 76,
     "metadata": {},
     "output_type": "execute_result"
    }
   ],
   "source": [
    "rng = np.random.RandomState(1234)\n",
    "rng.randn(10)"
   ]
  },
  {
   "cell_type": "markdown",
   "metadata": {
    "id": "ojHxP6g0mnAm"
   },
   "source": [
    "* Table below provides a partial list of functions available in numpy.random.\n",
    "\n",
    "<p align=\"center\">\n",
    "    <img src=\"http://raghudathesh.weebly.com/uploads/4/8/9/6/48968251/9_orig.png\">\n",
    "</p>"
   ]
  }
 ],
 "metadata": {
  "colab": {
   "provenance": []
  },
  "kernelspec": {
   "display_name": "Python 3",
   "language": "python",
   "name": "python3"
  },
  "language_info": {
   "codemirror_mode": {
    "name": "ipython",
    "version": 3
   },
   "file_extension": ".py",
   "mimetype": "text/x-python",
   "name": "python",
   "nbconvert_exporter": "python",
   "pygments_lexer": "ipython3",
   "version": "3.7.3"
  }
 },
 "nbformat": 4,
 "nbformat_minor": 1
}
